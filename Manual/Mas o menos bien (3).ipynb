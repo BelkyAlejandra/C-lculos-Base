{
 "cells": [
  {
   "cell_type": "markdown",
   "id": "c93f3f50",
   "metadata": {},
   "source": [
    "# Vamos a encontrar los coeficientes de expansión"
   ]
  },
  {
   "cell_type": "code",
   "execution_count": 91,
   "id": "412f0bcd",
   "metadata": {},
   "outputs": [],
   "source": [
    "import numpy as np\n",
    "\n"
   ]
  },
  {
   "cell_type": "code",
   "execution_count": 92,
   "id": "f3309e12",
   "metadata": {},
   "outputs": [
    {
     "name": "stdout",
     "output_type": "stream",
     "text": [
      "[[1.5        1.5        0.         0.        ]\n",
      " [1.5        1.5        1.41421356 0.        ]\n",
      " [0.         1.41421356 1.5        0.8660254 ]\n",
      " [0.         0.         0.8660254  1.5       ]]\n"
     ]
    }
   ],
   "source": [
    "# Ponemos la forma del hamiltonaino que tenemos\n",
    "\n",
    "# Los valores que ellos utilizan\n",
    "\n",
    "# wc = 1.25\n",
    "# wa = 1.0\n",
    "# g = 0.05\n",
    "\n",
    "wc = 1\n",
    "wa = 1\n",
    "g = 0.5\n",
    "J=3/2\n",
    "\n",
    "l=np.array([[3-J, g*(6*J)**(1/2),0,0],[g*(6*J)**(1/2),2-(J-1),2*g*(2*J-1)**(1/2),0],[0,2*g*(2*J-1)**(1/2), 1-(J-2) ,g*(6*(J-1))**(1/2)],[0,0,g*(6*(J-1))**(1/2), -(J-3)]])\n",
    "\n",
    "print(l)"
   ]
  },
  {
   "cell_type": "code",
   "execution_count": 93,
   "id": "1ce7faa3",
   "metadata": {},
   "outputs": [
    {
     "name": "stdout",
     "output_type": "stream",
     "text": [
      "Autovalores:\n",
      "[-0.65313746  3.65313746  0.89667665  2.10332335]\n",
      "\n",
      "Autofunciones:\n",
      "[[ 0.46982945  0.46982945  0.52845084 -0.52845084]\n",
      " [-0.67440493  0.67440493 -0.21255115 -0.21255115]\n",
      " [ 0.52845084  0.52845084 -0.46982945  0.46982945]\n",
      " [-0.21255115  0.21255115  0.67440493  0.67440493]]\n"
     ]
    }
   ],
   "source": [
    "import numpy as np\n",
    "\n",
    "# Definir una matriz (por ejemplo)\n",
    "# matriz = np.array([[1, 2], [2, 4]])\n",
    "\n",
    "# Encontrar los autovalores y autofunciones\n",
    "autovalores, autofunciones = np.linalg.eig(l)\n",
    "\n",
    "# Mostrar los autovalores y autofunciones\n",
    "print(\"Autovalores:\")\n",
    "print(autovalores)\n",
    "print(\"\\nAutofunciones:\")\n",
    "print(autofunciones)"
   ]
  },
  {
   "cell_type": "markdown",
   "id": "d7d2c37a",
   "metadata": {},
   "source": [
    "# Esto me dio unos autovalores y unas autofunciones diferentes que la resolución anterior :C"
   ]
  },
  {
   "cell_type": "code",
   "execution_count": 94,
   "id": "50697f06",
   "metadata": {},
   "outputs": [
    {
     "name": "stdout",
     "output_type": "stream",
     "text": [
      "Autovalores (SymPy):\n",
      "{-0.653137463407616: 1, 3.65313746340762: 1, 0.896676650815985: 1, 2.10332334918402: 1}\n",
      "\n",
      "Autovectores (SymPy):\n",
      "[(-0.653137463407616, 1, [Matrix([\n",
      "[  0.46982945118518],\n",
      "[-0.674404928506034],\n",
      "[ 0.528450836690635],\n",
      "[-0.212551152447526]])]), (3.65313746340762, 1, [Matrix([\n",
      "[ -0.46982945118518],\n",
      "[-0.674404928506034],\n",
      "[-0.528450836690635],\n",
      "[-0.212551152447526]])]), (0.896676650815985, 1, [Matrix([\n",
      "[ 0.528450836690635],\n",
      "[-0.212551152447526],\n",
      "[ -0.46982945118518],\n",
      "[ 0.674404928506034]])]), (2.10332334918402, 1, [Matrix([\n",
      "[-0.528450836690635],\n",
      "[-0.212551152447526],\n",
      "[  0.46982945118518],\n",
      "[ 0.674404928506034]])])]\n"
     ]
    }
   ],
   "source": [
    "import sympy as sp\n",
    "\n",
    "# Definir una matriz (como símbolos)\n",
    "# a, b, c, d = sp.symbols('a b c d')\n",
    "matriz_sympy = sp.Matrix(l)\n",
    "\n",
    "# Calcular autovalores y autovectores\n",
    "autovalores_sympy = matriz_sympy.eigenvals()\n",
    "autovectores_sympy = matriz_sympy.eigenvects()\n",
    "\n",
    "# Mostrar los resultados\n",
    "print(\"Autovalores (SymPy):\")\n",
    "print(autovalores_sympy)\n",
    "print(\"\\nAutovectores (SymPy):\")\n",
    "print(autovectores_sympy)"
   ]
  },
  {
   "cell_type": "markdown",
   "id": "79e1569a",
   "metadata": {},
   "source": [
    "\n"
   ]
  },
  {
   "cell_type": "markdown",
   "id": "5c224472",
   "metadata": {},
   "source": [
    "\n"
   ]
  },
  {
   "cell_type": "markdown",
   "id": "d8f78e72",
   "metadata": {},
   "source": [
    "\n"
   ]
  },
  {
   "cell_type": "markdown",
   "id": "10c2217d",
   "metadata": {},
   "source": [
    "# Entocontrar los coheficientes"
   ]
  },
  {
   "cell_type": "code",
   "execution_count": 95,
   "id": "940c60a0",
   "metadata": {},
   "outputs": [],
   "source": [
    "import sympy\n",
    "from sympy import symbols, I, exp, simplify\n",
    "\n",
    "a=symbols('a')\n",
    "b=symbols('b')\n",
    "c=symbols('c')\n",
    "d=symbols('d')\n",
    "\n",
    "t=symbols('t',real=True)\n",
    "\n",
    "e1=sp.exp(-0.65313746*I*t)\n",
    "e2=sp.exp(3.65313746*I*t)\n",
    "e3=sp.exp(0.89667665*I*t)\n",
    "e4=sp.exp(2.10332335*I*t)"
   ]
  },
  {
   "cell_type": "code",
   "execution_count": 96,
   "id": "9c1485cf",
   "metadata": {},
   "outputs": [],
   "source": [
    "# Autovalores:\n",
    "# [-0.65313746  3.65313746  0.89667665  2.10332335]\n",
    "\n",
    "# Autofunciones:\n",
    "# [[ 0.46982945  0.46982945  0.52845084 -0.52845084]\n",
    "#  [-0.67440493  0.67440493 -0.21255115 -0.21255115]\n",
    "#  [ 0.52845084  0.52845084 -0.46982945  0.46982945]\n",
    "#  [-0.21255115  0.21255115  0.67440493  0.67440493]]"
   ]
  },
  {
   "cell_type": "code",
   "execution_count": 97,
   "id": "1716c7c6",
   "metadata": {},
   "outputs": [],
   "source": [
    "c1=a*0.46982945*e1+b*0.46982945*e2+c*0.52845084*e3-d*0.52845084*e4\n",
    "\n",
    "c2=-a*0.67440493*e1+b*0.67440493*e2-c*0.21255115*e3-d*0.21255115*e4\n",
    "\n",
    "c3=a*0.52845084*e1+b*0.52845084*e2 -c*0.46982945*e3+d*0.46982945*e4\n",
    "\n",
    "c4=-a*0.21255115*e1+b*0.21255115*e2+c*0.67440493*e3+d*0.67440493*e4"
   ]
  },
  {
   "cell_type": "markdown",
   "id": "c9db278a",
   "metadata": {},
   "source": [
    "\n",
    "\n"
   ]
  },
  {
   "cell_type": "markdown",
   "id": "de0ccae8",
   "metadata": {},
   "source": [
    "\n",
    "\n",
    "\n"
   ]
  },
  {
   "cell_type": "markdown",
   "id": "d4c7d880",
   "metadata": {},
   "source": [
    "\n",
    "\n",
    "\n"
   ]
  },
  {
   "cell_type": "markdown",
   "id": "30107f45",
   "metadata": {},
   "source": [
    "\n"
   ]
  },
  {
   "cell_type": "markdown",
   "id": "7eb72bed",
   "metadata": {},
   "source": [
    "\n",
    "\n"
   ]
  },
  {
   "cell_type": "markdown",
   "id": "3060c2f1",
   "metadata": {},
   "source": [
    "\n",
    "Aplicando condiciones iniciales, se pueden hallar a, b, c y d\n",
    "\n"
   ]
  },
  {
   "cell_type": "code",
   "execution_count": 98,
   "id": "a4fd00d3",
   "metadata": {},
   "outputs": [
    {
     "name": "stdout",
     "output_type": "stream",
     "text": [
      "Lw solución es: {w: 0.0340272314465424, x: 0.408932219902948, y: 0.843883355223323, z: 0.345655127615246}\n"
     ]
    }
   ],
   "source": [
    "import sympy as sp\n",
    "\n",
    "# Definir vwriwbles simbólicws\n",
    "w, x, y, z = sp.symbols('w x y z')\n",
    "\n",
    "# Definir lws ecuwciones\n",
    "\n",
    "y1=w*0.46982945*1+x*0.46982945*1+y*0.52845084*1-z*0.52845084*1-((2)**(1/2))/3\n",
    "\n",
    "y2=-w*0.67440493*1+x*0.67440493*1-y*0.21255115*1-z*0.21255115*1+0\n",
    "\n",
    "y3=w*0.52845084*1+x*0.52845084*1 -y*0.46982945*1+z*0.46982945*1+0\n",
    "\n",
    "y4=-w*0.21255115*1+x*0.21255115*1+y*0.67440493*1+z*0.67440493*1-((7)**(1/2))/3\n",
    "\n",
    "# Resolver el sistemw de ecuwciones\n",
    "solucion = sp.solve((y1,y2,y3,y4), (w,x, y,z))\n",
    "\n",
    "print(\"Lw solución es:\", solucion)"
   ]
  },
  {
   "cell_type": "markdown",
   "id": "ccc5814c",
   "metadata": {},
   "source": [
    "# Valores de a, b,c y d"
   ]
  },
  {
   "cell_type": "code",
   "execution_count": 99,
   "id": "628f300f",
   "metadata": {},
   "outputs": [],
   "source": [
    "a=0.0340272314465424\n",
    "b=0.408932219902948\n",
    "c=0.843883355223323\n",
    "d=0.345655127615246"
   ]
  },
  {
   "cell_type": "markdown",
   "id": "cd162bb3",
   "metadata": {},
   "source": [
    "## Valores de los números"
   ]
  },
  {
   "cell_type": "code",
   "execution_count": 100,
   "id": "e1fb1eef",
   "metadata": {},
   "outputs": [],
   "source": [
    "c1=a*0.46982945*e1+b*0.46982945*e2+c*0.52845084*e3-d*0.52845084*e4\n",
    "c2=-a*0.67440493*e1+b*0.67440493*e2-c*0.21255115*e3-d*0.21255115*e4\n",
    "c3=a*0.52845084*e1+b*0.52845084*e2 -c*0.46982945*e3+d*0.46982945*e4\n",
    "c4=-a*0.21255115*e1+b*0.21255115*e2+c*0.67440493*e3+d*0.67440493*e4\n",
    "\n",
    "c1c=sp.conjugate(c1)\n",
    "c2c=sp.conjugate(c2)\n",
    "c3c=sp.conjugate(c3)\n",
    "c4c=sp.conjugate(c4)"
   ]
  },
  {
   "cell_type": "markdown",
   "id": "e5998ded",
   "metadata": {},
   "source": [
    "# Matriz densidad"
   ]
  },
  {
   "cell_type": "code",
   "execution_count": 101,
   "id": "67dad27e",
   "metadata": {},
   "outputs": [
    {
     "name": "stdout",
     "output_type": "stream",
     "text": [
      "0.445950867929783*exp(0.89667665*I*t) - 0.182661742538584*exp(2.10332335*I*t) + 0.192128399964281*exp(3.65313746*I*t) + 0.0159869954355517*exp(-0.65313746*I*t)\n"
     ]
    }
   ],
   "source": [
    "print(c1)"
   ]
  },
  {
   "cell_type": "code",
   "execution_count": 102,
   "id": "7a72ef39",
   "metadata": {},
   "outputs": [
    {
     "name": "stdout",
     "output_type": "stream",
     "text": [
      "0.0159869954355517*exp(0.65313746*I*t) + 0.192128399964281*exp(-3.65313746*I*t) - 0.182661742538584*exp(-2.10332335*I*t) + 0.445950867929783*exp(-0.89667665*I*t)\n"
     ]
    }
   ],
   "source": [
    "print(c1c)"
   ]
  },
  {
   "cell_type": "code",
   "execution_count": 103,
   "id": "f698287f",
   "metadata": {
    "scrolled": true
   },
   "outputs": [
    {
     "name": "stdout",
     "output_type": "stream",
     "text": [
      "-0.162916325245296*cos(1.2066467*t) - 0.0559301876771036*cos(1.54981411*t) + 0.165519228547635*cos(2.75646081*t) + 0.00614311170653763*cos(4.30627492*t) + 0.26940639489045\n"
     ]
    }
   ],
   "source": [
    "\n",
    "print(sp.simplify(c1*c1c))"
   ]
  },
  {
   "cell_type": "markdown",
   "id": "162a8510",
   "metadata": {},
   "source": [
    "Según mis cálculos más términos deberían salir (+2), por eso..."
   ]
  },
  {
   "cell_type": "markdown",
   "id": "c9847fc9",
   "metadata": {},
   "source": [
    "Creamole a este mk que esto está bien."
   ]
  },
  {
   "cell_type": "markdown",
   "id": "b6a8d37b",
   "metadata": {},
   "source": [
    "\n",
    "\n",
    "Vamos a hacer una prueba: vamos a hallar los valores de la traza para t=0\n"
   ]
  },
  {
   "cell_type": "code",
   "execution_count": 104,
   "id": "a9ded04c",
   "metadata": {
    "scrolled": true
   },
   "outputs": [
    {
     "name": "stdout",
     "output_type": "stream",
     "text": [
      "-0.162916325245296*cos(1.2066467*t) - 0.0559301876771036*cos(1.54981411*t) + 0.165519228547635*cos(2.75646081*t) + 0.00614311170653763*cos(4.30627492*t) + 0.26940639489045\n"
     ]
    }
   ],
   "source": [
    "#Esto es para simplificar la multiplicación, note como en lugar de escribirlo de forma exponencial lo entrega en funciones de seno y coseno\n",
    "#Primer elemento de matriz densidad\n",
    "print(sp.simplify(c1*c1c))"
   ]
  },
  {
   "cell_type": "code",
   "execution_count": 105,
   "id": "52c957ed",
   "metadata": {},
   "outputs": [
    {
     "name": "stdout",
     "output_type": "stream",
     "text": [
      "0.0263561723277769*cos(1.2066467*t) - 0.0322913084901371*cos(1.54981411*t) - 0.0955625699119408*cos(2.75646081*t) - 0.012657543063709*cos(4.30627492*t) + 0.11415524913801\n"
     ]
    }
   ],
   "source": [
    "#22 elemento de matriz densidad\n",
    "print(sp.simplify(c2*c2c))"
   ]
  },
  {
   "cell_type": "code",
   "execution_count": 106,
   "id": "eac64e14",
   "metadata": {},
   "outputs": [
    {
     "name": "stdout",
     "output_type": "stream",
     "text": [
      "-0.128776284987598*cos(1.2066467*t) + 0.0559301876771036*cos(1.54981411*t) - 0.165519228547635*cos(2.75646081*t) + 0.00777171965239449*cos(4.30627492*t) + 0.230593606205735\n"
     ]
    }
   ],
   "source": [
    "#33 elemento de matriz densidad\n",
    "print(sp.simplify(c3*c3c))"
   ]
  },
  {
   "cell_type": "code",
   "execution_count": 107,
   "id": "5ab1b1c8",
   "metadata": {},
   "outputs": [
    {
     "name": "stdout",
     "output_type": "stream",
     "text": [
      "0.265336437082906*cos(1.2066467*t) + 0.0322913084901371*cos(1.54981411*t) + 0.0955625699119408*cos(2.75646081*t) - 0.00125728825600057*cos(4.30627492*t) + 0.385844750548795\n"
     ]
    }
   ],
   "source": [
    "#44 elemento de matriz densidad\n",
    "print(sp.simplify(c4*c4c))"
   ]
  },
  {
   "cell_type": "markdown",
   "id": "ceaea304",
   "metadata": {},
   "source": [
    "Aquí compruebo si la traza de la matriz densidad es 1:"
   ]
  },
  {
   "cell_type": "code",
   "execution_count": 108,
   "id": "ff1ed6b1",
   "metadata": {},
   "outputs": [
    {
     "name": "stdout",
     "output_type": "stream",
     "text": [
      "1.00000000000000\n"
     ]
    }
   ],
   "source": [
    "#.subs(t, 0) sirve para evalular en la ecacuión antes del punto, el valor de t=0\n",
    "#Aquí encontré la traza :3\n",
    "print(sp.simplify(c4*c4c).subs(t, 0)+sp.simplify(c3*c3c).subs(t, 0)+sp.simplify(c2*c2c).subs(t, 0)+sp.simplify(c1*c1c).subs(t, 0))"
   ]
  },
  {
   "cell_type": "markdown",
   "id": "64728f28",
   "metadata": {},
   "source": [
    "Bien, si la traza de esa matriz densidad me dió uno estpy más que feliz. \n",
    "Pero es solo para un tiempo de cero segundos.\n",
    "¿Cambia mucho cuando se toman más segundos? \n",
    "\n",
    "Recuerda que el valor máximo de coseno corresponde a cuando el angulo es cero, es decir, la prueba inicial era suficiente."
   ]
  },
  {
   "cell_type": "code",
   "execution_count": 109,
   "id": "029c8525",
   "metadata": {},
   "outputs": [
    {
     "name": "stdout",
     "output_type": "stream",
     "text": [
      "1.00000000000000\n"
     ]
    }
   ],
   "source": [
    "#.subs(t, 0) sirve para evalular en la ecacuión antes del punto, el valor de t=0\n",
    "#Aquí encontré la traza :3\n",
    "v=0.000001\n",
    "print(sp.simplify(c4*c4c).subs(t, v)+sp.simplify(c3*c3c).subs(t, v)+sp.simplify(c2*c2c).subs(t, v)+sp.simplify(c1*c1c).subs(t, v))"
   ]
  },
  {
   "cell_type": "markdown",
   "id": "8350f280",
   "metadata": {},
   "source": [
    "No, igual se necesita menos que eso, porque el experimento se hace en un orden de los picosegundos. "
   ]
  },
  {
   "cell_type": "markdown",
   "id": "ef162d9f",
   "metadata": {},
   "source": [
    "\n",
    "\n"
   ]
  },
  {
   "cell_type": "markdown",
   "id": "390cefa6",
   "metadata": {},
   "source": [
    "\n"
   ]
  },
  {
   "cell_type": "markdown",
   "id": "5c728f06",
   "metadata": {},
   "source": [
    "\n"
   ]
  },
  {
   "cell_type": "markdown",
   "id": "6ebb4564",
   "metadata": {},
   "source": [
    "Expresión de la matriz de densidad:\n",
    "\n"
   ]
  },
  {
   "cell_type": "code",
   "execution_count": 110,
   "id": "464bc15a",
   "metadata": {
    "scrolled": true
   },
   "outputs": [
    {
     "name": "stdout",
     "output_type": "stream",
     "text": [
      "[-0.162916325245296*cos(1.2066467*t) - 0.0559301876771036*cos(1.54981411*t) + 0.165519228547635*cos(2.75646081*t) + 0.00614311170653763*cos(4.30627492*t) + 0.26940639489045, 0.0655274808242556*I*sin(1.2066467*t) + 0.0288937984811943*I*sin(1.54981411*t) - 0.152082422378388*I*sin(2.75646081*t) - 0.00881797601327395*I*sin(4.30627492*t) - 6.93889390390723e-18*cos(1.2066467*t) - 0.0775923923876654*cos(1.54981411*t) + 0.091542395379011*cos(2.75646081*t) - 0.0139500029913456, -1.38777878078145e-17*I*sin(1.2066467*t) + 0.0850322668547393*I*sin(1.54981411*t) - 0.178426391260075*I*sin(2.75646081*t) + 0.144843912985395*cos(1.2066467*t) - 0.00659143632466438*cos(1.54981411*t) + 0.0195066296179431*cos(2.75646081*t) + 0.00690959781583221*cos(4.30627492*t) - 0.164668704094506, -0.207912571248654*I*sin(1.2066467*t) + 0.0483402661019383*I*sin(1.54981411*t) + 0.0681766847483832*I*sin(2.75646081*t) - 0.00277914774776898*I*sin(4.30627492*t) + 0.034783717881117*cos(1.54981411*t) + 0.153153409549471*cos(2.75646081*t) + 0.227802582210961]\n",
      "[-0.0655274808242556*I*sin(1.2066467*t) - 0.0288937984811943*I*sin(1.54981411*t) + 0.152082422378388*I*sin(2.75646081*t) + 0.00881797601327395*I*sin(4.30627492*t) - 6.93889390390723e-18*cos(1.2066467*t) - 0.0775923923876654*cos(1.54981411*t) + 0.091542395379011*cos(2.75646081*t) - 0.0139500029913456, 0.0263561723277769*cos(1.2066467*t) - 0.0322913084901371*cos(1.54981411*t) - 0.0955625699119408*cos(2.75646081*t) - 0.012657543063709*cos(4.30627492*t) + 0.11415524913801, 0.0582584754251608*I*sin(1.2066467*t) + 0.0483402661019383*I*sin(1.54981411*t) - 0.0681766847483832*I*sin(2.75646081*t) + 0.00991820932322244*I*sin(4.30627492*t) - 3.46944695195361e-18*cos(1.2066467*t) + 0.034783717881117*cos(1.54981411*t) - 0.153153409549471*cos(2.75646081*t) + 8.67361737988404e-19*cos(4.30627492*t) + 0.118369691668354, -6.93889390390723e-18*I*sin(1.2066467*t) + 0.0850322666150536*I*sin(1.54981411*t) + 0.178426390757133*I*sin(2.75646081*t) - 0.083625671062153*cos(1.2066467*t) + 0.046140050981038*cos(1.54981411*t) + 0.136546397584437*cos(2.75646081*t) - 0.00398925810694454*cos(4.30627492*t) - 0.0950715193963774]\n",
      "[1.38777878078145e-17*I*sin(1.2066467*t) - 0.0850322668547393*I*sin(1.54981411*t) + 0.178426391260075*I*sin(2.75646081*t) + 0.144843912985395*cos(1.2066467*t) - 0.00659143632466438*cos(1.54981411*t) + 0.0195066296179431*cos(2.75646081*t) + 0.00690959781583221*cos(4.30627492*t) - 0.164668704094506, -0.0582584754251608*I*sin(1.2066467*t) - 0.0483402661019383*I*sin(1.54981411*t) + 0.0681766847483832*I*sin(2.75646081*t) - 0.00991820932322244*I*sin(4.30627492*t) - 3.46944695195361e-18*cos(1.2066467*t) + 0.034783717881117*cos(1.54981411*t) - 0.153153409549471*cos(2.75646081*t) + 8.67361737988404e-19*cos(4.30627492*t) + 0.118369691668354, -0.128776284987598*cos(1.2066467*t) + 0.0559301876771036*cos(1.54981411*t) - 0.165519228547635*cos(2.75646081*t) + 0.00777171965239449*cos(4.30627492*t) + 0.230593606205735, 0.184848696612614*I*sin(1.2066467*t) + 0.0288937984811942*I*sin(1.54981411*t) + 0.152082422378388*I*sin(2.75646081*t) - 0.00312590656416413*I*sin(4.30627492*t) + 1.38777878078145e-17*cos(1.2066467*t) + 0.0775923923876654*cos(1.54981411*t) + 0.091542395379011*cos(2.75646081*t) + 2.16840434497101e-19*cos(4.30627492*t) - 0.169134787766677]\n",
      "[0.207912571248654*I*sin(1.2066467*t) - 0.0483402661019383*I*sin(1.54981411*t) - 0.0681766847483832*I*sin(2.75646081*t) + 0.00277914774776898*I*sin(4.30627492*t) + 0.034783717881117*cos(1.54981411*t) + 0.153153409549471*cos(2.75646081*t) + 0.227802582210961, 6.93889390390723e-18*I*sin(1.2066467*t) - 0.0850322666150536*I*sin(1.54981411*t) - 0.178426390757133*I*sin(2.75646081*t) - 0.083625671062153*cos(1.2066467*t) + 0.046140050981038*cos(1.54981411*t) + 0.136546397584437*cos(2.75646081*t) - 0.00398925810694454*cos(4.30627492*t) - 0.0950715193963774, -0.184848696612614*I*sin(1.2066467*t) - 0.0288937984811942*I*sin(1.54981411*t) - 0.152082422378388*I*sin(2.75646081*t) + 0.00312590656416413*I*sin(4.30627492*t) + 1.38777878078145e-17*cos(1.2066467*t) + 0.0775923923876654*cos(1.54981411*t) + 0.091542395379011*cos(2.75646081*t) + 2.16840434497101e-19*cos(4.30627492*t) - 0.169134787766677, 0.265336437082906*cos(1.2066467*t) + 0.0322913084901371*cos(1.54981411*t) + 0.0955625699119408*cos(2.75646081*t) - 0.00125728825600057*cos(4.30627492*t) + 0.385844750548795]\n",
      "[[-0.162916325245296*cos(1.2066467*t) - 0.0559301876771036*cos(1.54981411*t) + 0.165519228547635*cos(2.75646081*t) + 0.00614311170653763*cos(4.30627492*t) + 0.26940639489045, 0.0655274808242556*I*sin(1.2066467*t) + 0.0288937984811943*I*sin(1.54981411*t) - 0.152082422378388*I*sin(2.75646081*t) - 0.00881797601327395*I*sin(4.30627492*t) - 6.93889390390723e-18*cos(1.2066467*t) - 0.0775923923876654*cos(1.54981411*t) + 0.091542395379011*cos(2.75646081*t) - 0.0139500029913456, -1.38777878078145e-17*I*sin(1.2066467*t) + 0.0850322668547393*I*sin(1.54981411*t) - 0.178426391260075*I*sin(2.75646081*t) + 0.144843912985395*cos(1.2066467*t) - 0.00659143632466438*cos(1.54981411*t) + 0.0195066296179431*cos(2.75646081*t) + 0.00690959781583221*cos(4.30627492*t) - 0.164668704094506, -0.207912571248654*I*sin(1.2066467*t) + 0.0483402661019383*I*sin(1.54981411*t) + 0.0681766847483832*I*sin(2.75646081*t) - 0.00277914774776898*I*sin(4.30627492*t) + 0.034783717881117*cos(1.54981411*t) + 0.153153409549471*cos(2.75646081*t) + 0.227802582210961], [-0.0655274808242556*I*sin(1.2066467*t) - 0.0288937984811943*I*sin(1.54981411*t) + 0.152082422378388*I*sin(2.75646081*t) + 0.00881797601327395*I*sin(4.30627492*t) - 6.93889390390723e-18*cos(1.2066467*t) - 0.0775923923876654*cos(1.54981411*t) + 0.091542395379011*cos(2.75646081*t) - 0.0139500029913456, 0.0263561723277769*cos(1.2066467*t) - 0.0322913084901371*cos(1.54981411*t) - 0.0955625699119408*cos(2.75646081*t) - 0.012657543063709*cos(4.30627492*t) + 0.11415524913801, 0.0582584754251608*I*sin(1.2066467*t) + 0.0483402661019383*I*sin(1.54981411*t) - 0.0681766847483832*I*sin(2.75646081*t) + 0.00991820932322244*I*sin(4.30627492*t) - 3.46944695195361e-18*cos(1.2066467*t) + 0.034783717881117*cos(1.54981411*t) - 0.153153409549471*cos(2.75646081*t) + 8.67361737988404e-19*cos(4.30627492*t) + 0.118369691668354, -6.93889390390723e-18*I*sin(1.2066467*t) + 0.0850322666150536*I*sin(1.54981411*t) + 0.178426390757133*I*sin(2.75646081*t) - 0.083625671062153*cos(1.2066467*t) + 0.046140050981038*cos(1.54981411*t) + 0.136546397584437*cos(2.75646081*t) - 0.00398925810694454*cos(4.30627492*t) - 0.0950715193963774], [1.38777878078145e-17*I*sin(1.2066467*t) - 0.0850322668547393*I*sin(1.54981411*t) + 0.178426391260075*I*sin(2.75646081*t) + 0.144843912985395*cos(1.2066467*t) - 0.00659143632466438*cos(1.54981411*t) + 0.0195066296179431*cos(2.75646081*t) + 0.00690959781583221*cos(4.30627492*t) - 0.164668704094506, -0.0582584754251608*I*sin(1.2066467*t) - 0.0483402661019383*I*sin(1.54981411*t) + 0.0681766847483832*I*sin(2.75646081*t) - 0.00991820932322244*I*sin(4.30627492*t) - 3.46944695195361e-18*cos(1.2066467*t) + 0.034783717881117*cos(1.54981411*t) - 0.153153409549471*cos(2.75646081*t) + 8.67361737988404e-19*cos(4.30627492*t) + 0.118369691668354, -0.128776284987598*cos(1.2066467*t) + 0.0559301876771036*cos(1.54981411*t) - 0.165519228547635*cos(2.75646081*t) + 0.00777171965239449*cos(4.30627492*t) + 0.230593606205735, 0.184848696612614*I*sin(1.2066467*t) + 0.0288937984811942*I*sin(1.54981411*t) + 0.152082422378388*I*sin(2.75646081*t) - 0.00312590656416413*I*sin(4.30627492*t) + 1.38777878078145e-17*cos(1.2066467*t) + 0.0775923923876654*cos(1.54981411*t) + 0.091542395379011*cos(2.75646081*t) + 2.16840434497101e-19*cos(4.30627492*t) - 0.169134787766677], [0.207912571248654*I*sin(1.2066467*t) - 0.0483402661019383*I*sin(1.54981411*t) - 0.0681766847483832*I*sin(2.75646081*t) + 0.00277914774776898*I*sin(4.30627492*t) + 0.034783717881117*cos(1.54981411*t) + 0.153153409549471*cos(2.75646081*t) + 0.227802582210961, 6.93889390390723e-18*I*sin(1.2066467*t) - 0.0850322666150536*I*sin(1.54981411*t) - 0.178426390757133*I*sin(2.75646081*t) - 0.083625671062153*cos(1.2066467*t) + 0.046140050981038*cos(1.54981411*t) + 0.136546397584437*cos(2.75646081*t) - 0.00398925810694454*cos(4.30627492*t) - 0.0950715193963774, -0.184848696612614*I*sin(1.2066467*t) - 0.0288937984811942*I*sin(1.54981411*t) - 0.152082422378388*I*sin(2.75646081*t) + 0.00312590656416413*I*sin(4.30627492*t) + 1.38777878078145e-17*cos(1.2066467*t) + 0.0775923923876654*cos(1.54981411*t) + 0.091542395379011*cos(2.75646081*t) + 2.16840434497101e-19*cos(4.30627492*t) - 0.169134787766677, 0.265336437082906*cos(1.2066467*t) + 0.0322913084901371*cos(1.54981411*t) + 0.0955625699119408*cos(2.75646081*t) - 0.00125728825600057*cos(4.30627492*t) + 0.385844750548795]]\n"
     ]
    }
   ],
   "source": [
    "import sympy as sp\n",
    "\n",
    "# # Supongamos que c1, c2, c3, c4 son símbolos o expresiones simbólicas de SymPy\n",
    "# c1, c2, c3, c4 = sp.symbols('c1 c2 c3 c4')\n",
    "\n",
    "# # Supongamos que c1c, c2c, c3c, c4c son símbolos o expresiones simbólicas de SymPy\n",
    "# c1c, c2c, c3c, c4c = sp.symbols('c1c c2c c3c c4c')\n",
    "\n",
    "# Listas de símbolos o expresiones simbólicas (vectores)\n",
    "\n",
    "lista_1 = [c1, c2, c3, c4]\n",
    "lista_2 = [c1c, c2c, c3c, c4c]\n",
    "\n",
    "vector_columna = lista_1\n",
    "vector_fila = lista_2\n",
    "\n",
    "# Crear una matriz para almacenar el resultado del producto\n",
    "matriz_densidadtotal = []\n",
    "\n",
    "# Realizar el producto de los vectores\n",
    "for i in range(len(vector_columna)):\n",
    "    fila = []\n",
    "    for j in range(len(vector_fila)):\n",
    "        producto = sp.simplify(vector_columna[i] * vector_fila[j])\n",
    "        fila.append(producto)\n",
    "    matriz_densidadtotal.append(fila)\n",
    "\n",
    "# Imprimir la matriz resultante\n",
    "for fila in matriz_densidadtotal:\n",
    "    print(fila)\n",
    "    \n",
    "print(matriz_densidadtotal)"
   ]
  },
  {
   "cell_type": "markdown",
   "id": "8dca761f",
   "metadata": {},
   "source": [
    "\n",
    "\n"
   ]
  },
  {
   "cell_type": "markdown",
   "id": "6be77de9",
   "metadata": {},
   "source": [
    "# ejemplo: t=0"
   ]
  },
  {
   "cell_type": "markdown",
   "id": "a62a28ad",
   "metadata": {},
   "source": [
    "\n",
    "\n",
    "\n"
   ]
  },
  {
   "cell_type": "markdown",
   "id": "23906ef8",
   "metadata": {},
   "source": [
    "\n",
    "\n"
   ]
  },
  {
   "cell_type": "code",
   "execution_count": 111,
   "id": "0f79835c",
   "metadata": {
    "scrolled": true
   },
   "outputs": [
    {
     "name": "stdout",
     "output_type": "stream",
     "text": [
      "[0.222222222222223, -5.39719282672548e-17, -1.30841038223648e-16, 0.415739709641550]\n",
      "[-5.39719282672548e-17, 1.31083606839856e-32, 3.17778440823894e-32, -1.00972232039804e-16]\n",
      "[-1.30841038223648e-16, 3.17778440823894e-32, 7.70371977754894e-32, -2.44781168581342e-16]\n",
      "[0.415739709641550, -1.00972232039804e-16, -2.44781168581342e-16, 0.777777777777778]\n",
      "¿¿¿¿¿¿¿¿¿¿¿¿¿¿¿¿¿¿¿¿¿¿¿¿¿¿¿¿¿¿¿¿¿¿¿¿¿¿¿¿¿¿¿¿¿¿¿¿¿¿¿¿¿¿¿¿¿¿¿¿¿¿¿¿¿¿¿¿¿¿¿¿¿¿¿¿¿¿¿¿¿¿¿¿¿¿¿¿¿¿¿¿¿¿¿¿¿¿¿¿¿¿¿¿¿¿¿¿¿¿¿¿¿¿¿¿¿¿¿¿¿¿¿¿¿¿¿¿¿¿¿¿¿¿¿¿¿¿¿¿¿¿¿¿¿¿¿¿¿¿¿¿¿¿¿¿¿¿¿¿¿¿¿¿¿¿¿¿¿¿¿¿¿¿¿¿¿¿¿¿¿¿¿¿¿¿¿¿¿¿¿¿¿¿¿¿¿¿¿¿¿¿¿¿¿¿¿¿¿¿¿¿¿¿¿¿¿¿¿¿¿¿¿¿¿¿¿¿¿¿¿¿¿¿¿¿¿¿¿¿¿¿¿¿¿¿¿¿¿¿¿¿¿¿¿¿¿¿¿¿¿¿¿¿¿¿¿¿¿¿¿¿¿¿¿¿¿¿¿¿¿¿¿¿¿¿¿¿¿¿¿¿¿¿¿¿¿¿¿¿¿¿¿¿¿¿¿¿¿¿¿¿¿¿¿¿¿¿¿¿¿¿¿¿¿¿¿¿¿¿¿¿¿¿¿¿¿¿¿¿¿¿¿¿¿¿¿¿¿¿¿¿¿¿¿¿¿¿¿¿¿¿¿¿¿¿¿¿¿¿¿¿¿¿¿¿¿¿¿¿¿¿¿¿¿¿¿¿¿¿¿¿¿¿¿¿¿¿¿¿¿¿¿¿¿¿¿¿¿¿¿¿¿¿¿¿¿¿¿¿¿¿¿¿¿¿¿¿¿¿¿¿¿¿¿¿¿¿¿¿¿¿¿¿¿¿¿¿¿¿¿¿¿¿¿¿¿¿¿¿¿¿¿¿¿¿¿¿¿¿¿¿¿¿¿¿¿¿¿¿¿¿¿¿¿¿¿¿¿¿¿¿¿¿¿¿¿¿¿¿¿¿¿¿¿¿¿¿¿¿¿¿¿¿¿¿¿¿¿¿¿¿¿¿¿¿¿¿¿¿¿¿¿¿¿¿¿¿¿¿¿¿¿¿¿¿¿¿¿¿¿¿¿¿¿¿¿¿¿¿¿¿¿¿¿¿¿¿¿¿¿¿¿¿¿¿¿¿¿¿¿¿¿¿¿¿¿¿¿¿¿¿¿¿¿¿¿¿¿¿¿¿¿¿¿¿¿¿¿¿¿¿¿¿¿¿¿¿¿¿¿¿¿¿¿¿¿¿¿¿¿¿¿¿¿¿¿¿¿¿¿¿¿¿¿¿¿¿¿¿¿¿¿¿¿¿¿¿¿¿¿¿¿¿¿¿¿¿¿¿¿¿¿¿¿¿¿¿¿¿¿¿¿¿¿¿¿¿¿¿¿¿¿¿¿¿¿¿¿¿¿¿¿¿¿¿¿¿¿¿¿¿¿¿¿¿¿¿¿¿¿¿¿¿¿¿¿¿¿¿¿¿¿¿¿¿¿¿¿¿¿¿¿¿¿¿¿¿¿¿¿¿¿¿¿¿¿¿¿¿¿¿¿¿¿¿¿¿¿¿¿¿¿¿¿¿¿¿¿¿¿¿¿¿¿¿¿¿¿¿¿¿¿¿¿¿¿¿¿¿¿¿¿¿¿¿¿¿¿¿¿¿¿¿¿¿¿¿¿¿¿¿¿¿¿¿¿¿¿¿¿¿¿¿¿¿¿¿¿¿¿¿¿¿¿¿¿¿¿¿¿¿¿¿¿¿¿¿¿¿¿¿¿¿¿¿¿¿¿¿¿¿¿¿¿¿¿¿¿¿¿¿¿¿¿¿¿¿¿¿¿¿¿¿¿¿¿¿¿¿¿¿¿¿¿¿¿¿¿¿¿¿¿¿¿¿¿¿¿¿¿¿¿¿¿¿¿¿¿¿¿¿¿¿¿¿¿¿¿¿¿¿¿¿¿¿¿¿¿¿¿¿¿¿¿¿¿¿¿¿¿¿¿¿¿¿¿¿¿¿¿¿¿¿¿¿¿¿¿¿¿¿¿¿¿¿¿¿¿¿¿¿¿¿¿¿¿¿¿¿\n",
      "[[0.222222222222223, -5.39719282672548e-17, -1.30841038223648e-16, 0.415739709641550], [-5.39719282672548e-17, 1.31083606839856e-32, 3.17778440823894e-32, -1.00972232039804e-16], [-1.30841038223648e-16, 3.17778440823894e-32, 7.70371977754894e-32, -2.44781168581342e-16], [0.415739709641550, -1.00972232039804e-16, -2.44781168581342e-16, 0.777777777777778]]\n"
     ]
    }
   ],
   "source": [
    "import sympy as sp\n",
    "\n",
    "'''\n",
    "Este código lo que hace es con el .subs(t, 0) es asignar un valor a t para cada elemento de la matriz densidad.\n",
    "'''\n",
    "\n",
    "# Listas de símbolos o expresiones simbólicas (vectores)\n",
    "vector_columna = lista_1\n",
    "vector_fila = lista_2\n",
    "\n",
    "# Crear una matriz para almacenar el resultado del producto\n",
    "matriz_densidadtotalcero = []\n",
    "\n",
    "# Realizar el producto de los vectores\n",
    "for i in range(len(vector_columna)):\n",
    "    fila = []\n",
    "    for j in range(len(vector_fila)):\n",
    "        producto = sp.simplify(vector_columna[i].subs(t, 0) * vector_fila[j].subs(t, 0))\n",
    "        fila.append(producto)\n",
    "    matriz_densidadtotalcero.append(fila)\n",
    "\n",
    "# Imprimir la matriz resultante\n",
    "for fila in matriz_densidadtotalcero:\n",
    "    print(fila)\n",
    "\n",
    "print(1000*'¿')\n",
    "print(matriz_densidadtotalcero)"
   ]
  },
  {
   "cell_type": "code",
   "execution_count": 112,
   "id": "e9870f6a",
   "metadata": {},
   "outputs": [
    {
     "name": "stdout",
     "output_type": "stream",
     "text": [
      "1.00000000000000\n"
     ]
    }
   ],
   "source": [
    "print(np.trace(matriz_densidadtotalcero))\n"
   ]
  },
  {
   "cell_type": "markdown",
   "id": "9951176a",
   "metadata": {},
   "source": [
    "\n",
    "\n"
   ]
  },
  {
   "cell_type": "markdown",
   "id": "3f791462",
   "metadata": {},
   "source": [
    "\n",
    "\n",
    "\n"
   ]
  },
  {
   "cell_type": "markdown",
   "id": "4628030c",
   "metadata": {},
   "source": [
    " \n",
    "    \n",
    "    \n",
    "    "
   ]
  },
  {
   "cell_type": "markdown",
   "id": "5dbfba26",
   "metadata": {},
   "source": [
    "# Matrices reducidas."
   ]
  },
  {
   "cell_type": "markdown",
   "id": "086b3408",
   "metadata": {},
   "source": [
    "# Matriz de densidad reducida de materia"
   ]
  },
  {
   "cell_type": "code",
   "execution_count": 113,
   "id": "077e39c0",
   "metadata": {},
   "outputs": [
    {
     "name": "stdout",
     "output_type": "stream",
     "text": [
      "densidad_D con valores en la diagonal principal:\n",
      "[0.265336437082906*cos(1.2066467*t) + 0.0322913084901371*cos(1.54981411*t) + 0.0955625699119408*cos(2.75646081*t) - 0.00125728825600057*cos(4.30627492*t) + 0.385844750548795, 0, 0, 0]\n",
      "[0, -0.128776284987598*cos(1.2066467*t) + 0.0559301876771036*cos(1.54981411*t) - 0.165519228547635*cos(2.75646081*t) + 0.00777171965239449*cos(4.30627492*t) + 0.230593606205735, 0, 0]\n",
      "[0, 0, 0.0263561723277769*cos(1.2066467*t) - 0.0322913084901371*cos(1.54981411*t) - 0.0955625699119408*cos(2.75646081*t) - 0.012657543063709*cos(4.30627492*t) + 0.11415524913801, 0]\n",
      "[0, 0, 0, -0.162916325245296*cos(1.2066467*t) - 0.0559301876771036*cos(1.54981411*t) + 0.165519228547635*cos(2.75646081*t) + 0.00614311170653763*cos(4.30627492*t) + 0.26940639489045]\n"
     ]
    }
   ],
   "source": [
    "# Función para imprimir la densidad_D\n",
    "def imprimir_densidad_D(densidad_D):\n",
    "    for fila in densidad_D:\n",
    "        print(fila)\n",
    "\n",
    "# Crear densidad_D 4x4 de ceros\n",
    "densidad_D = [[0 for _ in range(4)] for _ in range(4)]\n",
    "\n",
    "# Valores para la diagonal principal (puedes cambiar estos valores según tus preferencias)\n",
    "valores_diagonal = [sp.simplify(c4*c4c), sp.simplify(c3*c3c), sp.simplify(c2*c2c), sp.simplify(c1*c1c)]\n",
    "\n",
    "# Establecer los valores en la diagonal principal\n",
    "for i in range(4):\n",
    "    densidad_D[i][i] = valores_diagonal[i]\n",
    "\n",
    "# Imprimir densidad_D final\n",
    "print(\"densidad_D con valores en la diagonal principal:\")\n",
    "imprimir_densidad_D(densidad_D)"
   ]
  },
  {
   "cell_type": "code",
   "execution_count": 114,
   "id": "1a0955fc",
   "metadata": {},
   "outputs": [
    {
     "name": "stdout",
     "output_type": "stream",
     "text": [
      "[[0.265336437082906*cos(1.2066467*t) + 0.0322913084901371*cos(1.54981411*t) + 0.0955625699119408*cos(2.75646081*t) - 0.00125728825600057*cos(4.30627492*t) + 0.385844750548795, 0, 0, 0], [0, -0.128776284987598*cos(1.2066467*t) + 0.0559301876771036*cos(1.54981411*t) - 0.165519228547635*cos(2.75646081*t) + 0.00777171965239449*cos(4.30627492*t) + 0.230593606205735, 0, 0], [0, 0, 0.0263561723277769*cos(1.2066467*t) - 0.0322913084901371*cos(1.54981411*t) - 0.0955625699119408*cos(2.75646081*t) - 0.012657543063709*cos(4.30627492*t) + 0.11415524913801, 0], [0, 0, 0, -0.162916325245296*cos(1.2066467*t) - 0.0559301876771036*cos(1.54981411*t) + 0.165519228547635*cos(2.75646081*t) + 0.00614311170653763*cos(4.30627492*t) + 0.26940639489045]]\n"
     ]
    }
   ],
   "source": [
    "'Esta es la matriz de densidad reducida del componente de materia'\n",
    "print(densidad_D)"
   ]
  },
  {
   "cell_type": "markdown",
   "id": "a89fb0e6",
   "metadata": {},
   "source": [
    "# Matriz de densidad reducida fotónica"
   ]
  },
  {
   "cell_type": "code",
   "execution_count": 115,
   "id": "d14eebcd",
   "metadata": {
    "scrolled": true
   },
   "outputs": [
    {
     "name": "stdout",
     "output_type": "stream",
     "text": [
      "densidad_ph con valores en la diagonal principal:\n",
      "[-0.162916325245296*cos(1.2066467*t) - 0.0559301876771036*cos(1.54981411*t) + 0.165519228547635*cos(2.75646081*t) + 0.00614311170653763*cos(4.30627492*t) + 0.26940639489045, 0, 0, 0]\n",
      "[0, 0.0263561723277769*cos(1.2066467*t) - 0.0322913084901371*cos(1.54981411*t) - 0.0955625699119408*cos(2.75646081*t) - 0.012657543063709*cos(4.30627492*t) + 0.11415524913801, 0, 0]\n",
      "[0, 0, -0.128776284987598*cos(1.2066467*t) + 0.0559301876771036*cos(1.54981411*t) - 0.165519228547635*cos(2.75646081*t) + 0.00777171965239449*cos(4.30627492*t) + 0.230593606205735, 0]\n",
      "[0, 0, 0, 0.265336437082906*cos(1.2066467*t) + 0.0322913084901371*cos(1.54981411*t) + 0.0955625699119408*cos(2.75646081*t) - 0.00125728825600057*cos(4.30627492*t) + 0.385844750548795]\n"
     ]
    }
   ],
   "source": [
    "# Función para imprimir la densidad_ph\n",
    "def imprimir_densidad_ph(densidad_ph):\n",
    "    for fila in densidad_ph:\n",
    "        print(fila)\n",
    "\n",
    "# Crear densidad_ph 4x4 de ceros\n",
    "densidad_ph = [[0 for _ in range(4)] for _ in range(4)]\n",
    "\n",
    "# Valores para la diagonal principal (puedes cambiar estos valores según tus preferencias)\n",
    "valores_diagonal = [sp.simplify(c1*c1c), sp.simplify(c2*c2c), sp.simplify(c3*c3c), sp.simplify(c4*c4c)]\n",
    "\n",
    "# Establecer los valores en la diagonal principal\n",
    "for i in range(4):\n",
    "    densidad_ph[i][i] = valores_diagonal[i]\n",
    "\n",
    "# Imprimir densidad_ph final\n",
    "print(\"densidad_ph con valores en la diagonal principal:\")\n",
    "imprimir_densidad_ph(densidad_ph)"
   ]
  },
  {
   "cell_type": "code",
   "execution_count": 116,
   "id": "4c4db8e1",
   "metadata": {},
   "outputs": [
    {
     "name": "stdout",
     "output_type": "stream",
     "text": [
      "[[-0.162916325245296*cos(1.2066467*t) - 0.0559301876771036*cos(1.54981411*t) + 0.165519228547635*cos(2.75646081*t) + 0.00614311170653763*cos(4.30627492*t) + 0.26940639489045, 0, 0, 0], [0, 0.0263561723277769*cos(1.2066467*t) - 0.0322913084901371*cos(1.54981411*t) - 0.0955625699119408*cos(2.75646081*t) - 0.012657543063709*cos(4.30627492*t) + 0.11415524913801, 0, 0], [0, 0, -0.128776284987598*cos(1.2066467*t) + 0.0559301876771036*cos(1.54981411*t) - 0.165519228547635*cos(2.75646081*t) + 0.00777171965239449*cos(4.30627492*t) + 0.230593606205735, 0], [0, 0, 0, 0.265336437082906*cos(1.2066467*t) + 0.0322913084901371*cos(1.54981411*t) + 0.0955625699119408*cos(2.75646081*t) - 0.00125728825600057*cos(4.30627492*t) + 0.385844750548795]]\n"
     ]
    }
   ],
   "source": [
    "print(densidad_ph)"
   ]
  },
  {
   "cell_type": "markdown",
   "id": "51c2e596",
   "metadata": {},
   "source": [
    "\n",
    "\n"
   ]
  },
  {
   "cell_type": "markdown",
   "id": "493a37cb",
   "metadata": {},
   "source": [
    "\n",
    "\n"
   ]
  },
  {
   "cell_type": "markdown",
   "id": "d328b067",
   "metadata": {},
   "source": [
    "\n",
    "\n"
   ]
  },
  {
   "cell_type": "markdown",
   "id": "52373f9c",
   "metadata": {},
   "source": [
    "# Vamos a graficar la entropía lineal $S_L=1-Tr((\\rho_{ph})^2)$"
   ]
  },
  {
   "cell_type": "markdown",
   "id": "220e2db1",
   "metadata": {},
   "source": [
    "Algoritmo:\n",
    "1. Entontrar el cuadrado de la matriz densidad reducida fotónica.\n",
    "2. Entcontrar la traza. \n",
    "3. Restarle uno.\n",
    "4. Graficar la expresión resultante cada 1/6."
   ]
  },
  {
   "cell_type": "code",
   "execution_count": 117,
   "id": "d00fe65e",
   "metadata": {},
   "outputs": [],
   "source": [
    "# Tengo que convertir esto en una matriz y no en una lista, como al parecer está escrito arriba.\n",
    "m=sp.Matrix(densidad_ph)"
   ]
  },
  {
   "cell_type": "code",
   "execution_count": 118,
   "id": "e7e0f557",
   "metadata": {},
   "outputs": [],
   "source": [
    "#Hallo el cuadrado de la matriz densidad fotónica\n",
    "squareddensidad_ph=(m)**2"
   ]
  },
  {
   "cell_type": "code",
   "execution_count": 119,
   "id": "7490a67e",
   "metadata": {},
   "outputs": [
    {
     "name": "stdout",
     "output_type": "stream",
     "text": [
      "Matrix([[0.0725798056078692*(-0.604723304031234*cos(1.2066467*t) - 0.207605271210606*cos(1.54981411*t) + 0.614384928074705*cos(2.75646081*t) + 0.0228023975044677*cos(4.30627492*t) + 1)**2, 0, 0, 0], [0, 0.0130314209057611*(0.23088007364351*cos(1.2066467*t) - 0.282871867338295*cos(1.54981411*t) - 0.837128127121065*cos(2.75646081*t) - 0.11088007918415*cos(4.30627492*t) + 1)**2, 0, 0], [0, 0, 0.0531734112229657*(-0.558455575184962*cos(1.2066467*t) + 0.242548735836165*cos(1.54981411*t) - 0.717796261878826*cos(2.75646081*t) + 0.0337031012276228*cos(4.30627492*t) + 1)**2, 0], [0, 0, 0, 0.148876171526062*(0.687676680077965*cos(1.2066467*t) + 0.0836898997438957*cos(1.54981411*t) + 0.247671038095037*cos(2.75646081*t) - 0.00325853404565515*cos(4.30627492*t) + 1)**2]])\n"
     ]
    }
   ],
   "source": [
    "print(squareddensidad_ph)"
   ]
  },
  {
   "cell_type": "code",
   "execution_count": 120,
   "id": "9b4bfaf0",
   "metadata": {},
   "outputs": [],
   "source": [
    "traza = squareddensidad_ph.trace()"
   ]
  },
  {
   "cell_type": "code",
   "execution_count": 121,
   "id": "a734a0c7",
   "metadata": {},
   "outputs": [
    {
     "name": "stdout",
     "output_type": "stream",
     "text": [
      "0.0725798056078692*(-0.604723304031234*cos(1.2066467*t) - 0.207605271210606*cos(1.54981411*t) + 0.614384928074705*cos(2.75646081*t) + 0.0228023975044677*cos(4.30627492*t) + 1)**2 + 0.0531734112229657*(-0.558455575184962*cos(1.2066467*t) + 0.242548735836165*cos(1.54981411*t) - 0.717796261878826*cos(2.75646081*t) + 0.0337031012276228*cos(4.30627492*t) + 1)**2 + 0.0130314209057611*(0.23088007364351*cos(1.2066467*t) - 0.282871867338295*cos(1.54981411*t) - 0.837128127121065*cos(2.75646081*t) - 0.11088007918415*cos(4.30627492*t) + 1)**2 + 0.148876171526062*(0.687676680077965*cos(1.2066467*t) + 0.0836898997438957*cos(1.54981411*t) + 0.247671038095037*cos(2.75646081*t) - 0.00325853404565515*cos(4.30627492*t) + 1)**2\n"
     ]
    }
   ],
   "source": [
    "print(traza)"
   ]
  },
  {
   "cell_type": "code",
   "execution_count": 122,
   "id": "0797a754",
   "metadata": {},
   "outputs": [],
   "source": [
    "#Defino la función de voy a graficar\n",
    "funcion1=1-traza"
   ]
  },
  {
   "cell_type": "code",
   "execution_count": 123,
   "id": "6a57395b",
   "metadata": {},
   "outputs": [
    {
     "data": {
      "image/png": "[encoded data removed]",
      "text/plain": [
       "<Figure size 800x600 with 1 Axes>"
      ]
     },
     "metadata": {},
     "output_type": "display_data"
    }
   ],
   "source": [
    "import sympy as sp\n",
    "import matplotlib.pyplot as plt\n",
    "import numpy as np\n",
    "\n",
    "# Definir el símbolo\n",
    "t = sp.symbols('t')\n",
    "\n",
    "# Definir la función en términos de coseno de t\n",
    "funcion = funcion1\n",
    "\n",
    "# Convertir la función simbólica a una función que pueda evaluar numéricamente\n",
    "funcion_numeric = sp.lambdify(t, funcion, modules='numpy')\n",
    "\n",
    "# Crear un rango de valores de t\n",
    "rango_t = np.linspace(0, 36.6, 100000)  # Intervalo de 0 a 7 con 100 puntos\n",
    "\n",
    "# Evaluar la función en el rango de t\n",
    "valores_funcion = funcion_numeric(rango_t)\n",
    "\n",
    "# Graficar la función\n",
    "plt.figure(figsize=(8, 6))\n",
    "plt.plot(rango_t, valores_funcion, label='S_L')\n",
    "plt.title('Gráfica de la entropía lineal, usando la mdr fotónica')\n",
    "plt.xlabel('t')\n",
    "plt.ylabel('f(t)')\n",
    "plt.grid(True)\n",
    "plt.legend()\n",
    "plt.show()"
   ]
  },
  {
   "cell_type": "markdown",
   "id": "85918792",
   "metadata": {},
   "source": [
    "![Esta forma optenida es muy parecida a la del artículo original, esto me hace pensar que los cálculos hechos están más o menos bien, al menos en procedimientos](imagen.jpeg)"
   ]
  },
  {
   "cell_type": "markdown",
   "id": "af3c8dd5",
   "metadata": {},
   "source": [
    "Los resultados optenidos son similares, al menos en forma, del primer caso del artículo de Herbert."
   ]
  },
  {
   "cell_type": "code",
   "execution_count": null,
   "id": "ce0427be",
   "metadata": {},
   "outputs": [],
   "source": []
  }
 ],
 "metadata": {
  "kernelspec": {
   "display_name": "Python 3 (ipykernel)",
   "language": "python",
   "name": "python3"
  },
  "language_info": {
   "codemirror_mode": {
    "name": "ipython",
    "version": 3
   },
   "file_extension": ".py",
   "mimetype": "text/x-python",
   "name": "python",
   "nbconvert_exporter": "python",
   "pygments_lexer": "ipython3",
   "version": "3.11.4"
  }
 },
 "nbformat": 4,
 "nbformat_minor": 5
}
