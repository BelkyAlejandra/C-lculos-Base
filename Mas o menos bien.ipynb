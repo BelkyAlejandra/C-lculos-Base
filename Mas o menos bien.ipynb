{
 "cells": [
  {
   "cell_type": "markdown",
   "id": "c93f3f50",
   "metadata": {},
   "source": [
    "# Vamos a encontrar los coeficientes de expansión"
   ]
  },
  {
   "cell_type": "code",
   "execution_count": 2,
   "id": "412f0bcd",
   "metadata": {},
   "outputs": [],
   "source": [
    "import numpy as np\n",
    "\n"
   ]
  },
  {
   "cell_type": "code",
   "execution_count": 4,
   "id": "f3309e12",
   "metadata": {},
   "outputs": [
    {
     "name": "stdout",
     "output_type": "stream",
     "text": [
      "[[1.5        1.5        0.         0.        ]\n",
      " [1.5        1.5        1.41421356 0.        ]\n",
      " [0.         1.41421356 1.5        0.8660254 ]\n",
      " [0.         0.         0.8660254  1.5       ]]\n"
     ]
    }
   ],
   "source": [
    "# Ponemos la forma del hamiltonaino que tenemos\n",
    "\n",
    "# Los valores que ellos utilizan\n",
    "\n",
    "# wc = 1.25\n",
    "# wa = 1.0\n",
    "# g = 0.05\n",
    "\n",
    "wc = 1\n",
    "wa = 1\n",
    "g = 0.5\n",
    "J=3/2\n",
    "\n",
    "l=np.array([[3-J, g*(6*J)**(1/2),0,0],[g*(6*J)**(1/2),2-(J-1),2*g*(2*J-1)**(1/2),0],[0,2*g*(2*J-1)**(1/2), 1-(J-2) ,g*(6*(J-1))**(1/2)],[0,0,g*(6*(J-1))**(1/2), -(J-3)]])\n",
    "\n",
    "print(l)"
   ]
  },
  {
   "cell_type": "code",
   "execution_count": 5,
   "id": "1ce7faa3",
   "metadata": {},
   "outputs": [
    {
     "name": "stdout",
     "output_type": "stream",
     "text": [
      "Autovalores:\n",
      "[-0.65313746  3.65313746  0.89667665  2.10332335]\n",
      "\n",
      "Autofunciones:\n",
      "[[ 0.46982945  0.46982945  0.52845084 -0.52845084]\n",
      " [-0.67440493  0.67440493 -0.21255115 -0.21255115]\n",
      " [ 0.52845084  0.52845084 -0.46982945  0.46982945]\n",
      " [-0.21255115  0.21255115  0.67440493  0.67440493]]\n"
     ]
    }
   ],
   "source": [
    "import numpy as np\n",
    "\n",
    "# Definir una matriz (por ejemplo)\n",
    "# matriz = np.array([[1, 2], [2, 4]])\n",
    "\n",
    "# Encontrar los autovalores y autofunciones\n",
    "autovalores, autofunciones = np.linalg.eig(l)\n",
    "\n",
    "# Mostrar los autovalores y autofunciones\n",
    "print(\"Autovalores:\")\n",
    "print(autovalores)\n",
    "print(\"\\nAutofunciones:\")\n",
    "print(autofunciones)"
   ]
  },
  {
   "cell_type": "markdown",
   "id": "d7d2c37a",
   "metadata": {},
   "source": [
    "# Esto me dio unos autovalores y unas autofunciones diferentes que la resolución con 'calculadora de matrices' :C"
   ]
  },
  {
   "cell_type": "code",
   "execution_count": 13,
   "id": "50697f06",
   "metadata": {},
   "outputs": [
    {
     "name": "stdout",
     "output_type": "stream",
     "text": [
      "Autovalores (SymPy):\n",
      "{-0.653137463407616: 1, 3.65313746340762: 1, 0.896676650815985: 1, 2.10332334918402: 1}\n",
      "\n",
      "Autovectores (SymPy):\n",
      "[(-0.653137463407616, 1, [Matrix([\n",
      "[  0.46982945118518],\n",
      "[-0.674404928506034],\n",
      "[ 0.528450836690635],\n",
      "[-0.212551152447526]])]), (3.65313746340762, 1, [Matrix([\n",
      "[ -0.46982945118518],\n",
      "[-0.674404928506034],\n",
      "[-0.528450836690635],\n",
      "[-0.212551152447526]])]), (0.896676650815985, 1, [Matrix([\n",
      "[ 0.528450836690635],\n",
      "[-0.212551152447526],\n",
      "[ -0.46982945118518],\n",
      "[ 0.674404928506034]])]), (2.10332334918402, 1, [Matrix([\n",
      "[-0.528450836690635],\n",
      "[-0.212551152447526],\n",
      "[  0.46982945118518],\n",
      "[ 0.674404928506034]])])]\n"
     ]
    }
   ],
   "source": [
    "import sympy as sp\n",
    "\n",
    "# Definir una matriz (como símbolos)\n",
    "# a, b, c, d = sp.symbols('a b c d')\n",
    "matriz_sympy = sp.Matrix(l)\n",
    "\n",
    "# Calcular autovalores y autovectores\n",
    "autovalores_sympy = matriz_sympy.eigenvals()\n",
    "autovectores_sympy = matriz_sympy.eigenvects()\n",
    "\n",
    "# Mostrar los resultados\n",
    "print(\"Autovalores (SymPy):\")\n",
    "print(autovalores_sympy)\n",
    "print(\"\\nAutovectores (SymPy):\")\n",
    "print(autovectores_sympy)"
   ]
  },
  {
   "cell_type": "markdown",
   "id": "79e1569a",
   "metadata": {},
   "source": [
    "\n"
   ]
  },
  {
   "cell_type": "markdown",
   "id": "5c224472",
   "metadata": {},
   "source": [
    "\n"
   ]
  },
  {
   "cell_type": "markdown",
   "id": "d8f78e72",
   "metadata": {},
   "source": [
    "\n"
   ]
  },
  {
   "cell_type": "markdown",
   "id": "10c2217d",
   "metadata": {},
   "source": [
    "# Entocontrar los coheficientes"
   ]
  },
  {
   "cell_type": "code",
   "execution_count": 65,
   "id": "940c60a0",
   "metadata": {},
   "outputs": [],
   "source": [
    "import sympy\n",
    "from sympy import symbols, I, exp, simplify\n",
    "\n",
    "a=symbols('a')\n",
    "b=symbols('b')\n",
    "c=symbols('c')\n",
    "d=symbols('d')\n",
    "\n",
    "t=symbols('t')\n",
    "\n",
    "e1=sp.exp(-0.65313746*I*t)\n",
    "e2=sp.exp(3.65313746*I*t)\n",
    "e3=sp.exp(0.89667665*I*t)\n",
    "e4=sp.exp(2.10332335*I*t)"
   ]
  },
  {
   "cell_type": "code",
   "execution_count": null,
   "id": "9c1485cf",
   "metadata": {},
   "outputs": [],
   "source": [
    "# Autovalores:\n",
    "# [-0.65313746  3.65313746  0.89667665  2.10332335]\n",
    "\n",
    "# Autofunciones:\n",
    "# [[ 0.46982945  0.46982945  0.52845084 -0.52845084]\n",
    "#  [-0.67440493  0.67440493 -0.21255115 -0.21255115]\n",
    "#  [ 0.52845084  0.52845084 -0.46982945  0.46982945]\n",
    "#  [-0.21255115  0.21255115  0.67440493  0.67440493]]"
   ]
  },
  {
   "cell_type": "code",
   "execution_count": 66,
   "id": "1716c7c6",
   "metadata": {},
   "outputs": [],
   "source": [
    "c1=a*0.46982945*e1+b*0.46982945*e2+c*0.52845084*e3-d*0.52845084*e4\n",
    "\n",
    "c2=-a*0.67440493*e1+b*0.67440493*e2-c*0.21255115*e3-d*0.21255115*e4\n",
    "\n",
    "c3=a*0.52845084*e1+b*0.52845084*e2 -c*0.46982945*e3+d*0.46982945*e4\n",
    "\n",
    "c4=-a*0.21255115*e1+b*0.21255115*e2+c*0.67440493*e3+d*0.67440493*e4"
   ]
  },
  {
   "cell_type": "markdown",
   "id": "c9db278a",
   "metadata": {},
   "source": [
    "\n",
    "\n"
   ]
  },
  {
   "cell_type": "markdown",
   "id": "de0ccae8",
   "metadata": {},
   "source": [
    "\n",
    "\n",
    "\n"
   ]
  },
  {
   "cell_type": "markdown",
   "id": "d4c7d880",
   "metadata": {},
   "source": [
    "\n",
    "\n",
    "\n"
   ]
  },
  {
   "cell_type": "markdown",
   "id": "30107f45",
   "metadata": {},
   "source": [
    "\n"
   ]
  },
  {
   "cell_type": "markdown",
   "id": "7eb72bed",
   "metadata": {},
   "source": [
    "\n",
    "\n"
   ]
  },
  {
   "cell_type": "markdown",
   "id": "3060c2f1",
   "metadata": {},
   "source": [
    "\n",
    "Aplicando condiciones iniciales, se pueden hallar a, b, c y d\n",
    "\n"
   ]
  },
  {
   "cell_type": "code",
   "execution_count": 68,
   "id": "a4fd00d3",
   "metadata": {},
   "outputs": [
    {
     "name": "stdout",
     "output_type": "stream",
     "text": [
      "Lw solución es: {w: 0.0340272314465424, x: 0.408932219902948, y: 0.843883355223323, z: 0.345655127615246}\n"
     ]
    }
   ],
   "source": [
    "import sympy as sp\n",
    "\n",
    "# Definir vwriwbles simbólicws\n",
    "w, x, y, z = sp.symbols('w x y z')\n",
    "\n",
    "# Definir lws ecuwciones\n",
    "\n",
    "y1=w*0.46982945*1+x*0.46982945*1+y*0.52845084*1-z*0.52845084*1-((2)**(1/2))/3\n",
    "\n",
    "y2=-w*0.67440493*1+x*0.67440493*1-y*0.21255115*1-z*0.21255115*1+0\n",
    "\n",
    "y3=w*0.52845084*1+x*0.52845084*1 -y*0.46982945*1+z*0.46982945*1+0\n",
    "\n",
    "y4=-w*0.21255115*1+x*0.21255115*1+y*0.67440493*1+z*0.67440493*1-((7)**(1/2))/3\n",
    "\n",
    "# Resolver el sistemw de ecuwciones\n",
    "solucion = sp.solve((y1,y2,y3,y4), (w,x, y,z))\n",
    "\n",
    "print(\"Lw solución es:\", solucion)"
   ]
  },
  {
   "cell_type": "markdown",
   "id": "ccc5814c",
   "metadata": {},
   "source": [
    "# Valores de a, b,c y d"
   ]
  },
  {
   "cell_type": "code",
   "execution_count": 69,
   "id": "628f300f",
   "metadata": {},
   "outputs": [],
   "source": [
    "a=0.0340272314465424\n",
    "b=0.408932219902948\n",
    "c=0.843883355223323\n",
    "d=0.345655127615246"
   ]
  },
  {
   "cell_type": "markdown",
   "id": "cd162bb3",
   "metadata": {},
   "source": [
    "## Valores de los números"
   ]
  },
  {
   "cell_type": "code",
   "execution_count": 76,
   "id": "e1fb1eef",
   "metadata": {},
   "outputs": [],
   "source": [
    "c1=a*0.46982945*e1+b*0.46982945*e2+c*0.52845084*e3-d*0.52845084*e4\n",
    "c2=-a*0.67440493*e1+b*0.67440493*e2-c*0.21255115*e3-d*0.21255115*e4\n",
    "c3=a*0.52845084*e1+b*0.52845084*e2 -c*0.46982945*e3+d*0.46982945*e4\n",
    "c4=-a*0.21255115*e1+b*0.21255115*e2+c*0.67440493*e3+d*0.67440493*e4\n",
    "\n",
    "c1c=sp.conjugate(c1)\n",
    "c2c=sp.conjugate(c2)\n",
    "c3c=sp.conjugate(c3)\n",
    "c4c=sp.conjugate(c4)"
   ]
  },
  {
   "cell_type": "code",
   "execution_count": 75,
   "id": "b7ccb05d",
   "metadata": {},
   "outputs": [
    {
     "name": "stdout",
     "output_type": "stream",
     "text": [
      "0.445950867929783*exp(0.89667665*I*t) - 0.182661742538584*exp(2.10332335*I*t) + 0.192128399964281*exp(3.65313746*I*t) + 0.0159869954355517*exp(-0.65313746*I*t)\n",
      "************************************************************************************************************************************************************************************\n",
      "0.0159869954355517*exp(0.65313746*I*conjugate(t)) + 0.192128399964281*exp(-3.65313746*I*conjugate(t)) - 0.182661742538584*exp(-2.10332335*I*conjugate(t)) + 0.445950867929783*exp(-0.89667665*I*conjugate(t))\n"
     ]
    }
   ],
   "source": [
    "print(c1)\n",
    "print(60*'***')\n",
    "print(c1c)"
   ]
  },
  {
   "cell_type": "code",
   "execution_count": 77,
   "id": "cf9b57f8",
   "metadata": {},
   "outputs": [
    {
     "name": "stdout",
     "output_type": "stream",
     "text": [
      "Matriz de densidad es: \n",
      "[(0.445950867929783*exp(0.89667665*I*t) - 0.182661742538584*exp(2.10332335*I*t) + 0.192128399964281*exp(3.65313746*I*t) + 0.0159869954355517*exp(-0.65313746*I*t))*(0.0159869954355517*exp(0.65313746*I*conjugate(t)) + 0.192128399964281*exp(-3.65313746*I*conjugate(t)) - 0.182661742538584*exp(-2.10332335*I*conjugate(t)) + 0.445950867929783*exp(-0.89667665*I*conjugate(t))), (0.445950867929783*exp(0.89667665*I*t) - 0.182661742538584*exp(2.10332335*I*t) + 0.192128399964281*exp(3.65313746*I*t) + 0.0159869954355517*exp(-0.65313746*I*t))*(-0.0229481326417992*exp(0.65313746*I*conjugate(t)) + 0.275785905138392*exp(-3.65313746*I*conjugate(t)) - 0.0734693948780173*exp(-2.10332335*I*conjugate(t)) - 0.179368377618576*exp(-0.89667665*I*conjugate(t))), (0.445950867929783*exp(0.89667665*I*t) - 0.182661742538584*exp(2.10332335*I*t) + 0.192128399964281*exp(3.65313746*I*t) + 0.0159869954355517*exp(-0.65313746*I*t))*(0.0179817190407997*exp(0.65313746*I*conjugate(t)) + 0.216100575110778*exp(-3.65313746*I*conjugate(t)) + 0.162398958497151*exp(-2.10332335*I*conjugate(t)) - 0.396481252648728*exp(-0.89667665*I*conjugate(t))), (0.445950867929783*exp(0.89667665*I*t) - 0.182661742538584*exp(2.10332335*I*t) + 0.192128399964281*exp(3.65313746*I*t) + 0.0159869954355517*exp(-0.65313746*I*t))*(-0.00723252717527875*exp(0.65313746*I*conjugate(t)) + 0.0869190136124245*exp(-3.65313746*I*conjugate(t)) + 0.233111522143501*exp(-2.10332335*I*conjugate(t)) + 0.56911909510755*exp(-0.89667665*I*conjugate(t)))]\n",
      "[(-0.179368377618576*exp(0.89667665*I*t) - 0.0734693948780173*exp(2.10332335*I*t) + 0.275785905138392*exp(3.65313746*I*t) - 0.0229481326417992*exp(-0.65313746*I*t))*(0.0159869954355517*exp(0.65313746*I*conjugate(t)) + 0.192128399964281*exp(-3.65313746*I*conjugate(t)) - 0.182661742538584*exp(-2.10332335*I*conjugate(t)) + 0.445950867929783*exp(-0.89667665*I*conjugate(t))), (-0.179368377618576*exp(0.89667665*I*t) - 0.0734693948780173*exp(2.10332335*I*t) + 0.275785905138392*exp(3.65313746*I*t) - 0.0229481326417992*exp(-0.65313746*I*t))*(-0.0229481326417992*exp(0.65313746*I*conjugate(t)) + 0.275785905138392*exp(-3.65313746*I*conjugate(t)) - 0.0734693948780173*exp(-2.10332335*I*conjugate(t)) - 0.179368377618576*exp(-0.89667665*I*conjugate(t))), (-0.179368377618576*exp(0.89667665*I*t) - 0.0734693948780173*exp(2.10332335*I*t) + 0.275785905138392*exp(3.65313746*I*t) - 0.0229481326417992*exp(-0.65313746*I*t))*(0.0179817190407997*exp(0.65313746*I*conjugate(t)) + 0.216100575110778*exp(-3.65313746*I*conjugate(t)) + 0.162398958497151*exp(-2.10332335*I*conjugate(t)) - 0.396481252648728*exp(-0.89667665*I*conjugate(t))), (-0.179368377618576*exp(0.89667665*I*t) - 0.0734693948780173*exp(2.10332335*I*t) + 0.275785905138392*exp(3.65313746*I*t) - 0.0229481326417992*exp(-0.65313746*I*t))*(-0.00723252717527875*exp(0.65313746*I*conjugate(t)) + 0.0869190136124245*exp(-3.65313746*I*conjugate(t)) + 0.233111522143501*exp(-2.10332335*I*conjugate(t)) + 0.56911909510755*exp(-0.89667665*I*conjugate(t)))]\n",
      "[(-0.396481252648728*exp(0.89667665*I*t) + 0.162398958497151*exp(2.10332335*I*t) + 0.216100575110778*exp(3.65313746*I*t) + 0.0179817190407997*exp(-0.65313746*I*t))*(0.0159869954355517*exp(0.65313746*I*conjugate(t)) + 0.192128399964281*exp(-3.65313746*I*conjugate(t)) - 0.182661742538584*exp(-2.10332335*I*conjugate(t)) + 0.445950867929783*exp(-0.89667665*I*conjugate(t))), (-0.396481252648728*exp(0.89667665*I*t) + 0.162398958497151*exp(2.10332335*I*t) + 0.216100575110778*exp(3.65313746*I*t) + 0.0179817190407997*exp(-0.65313746*I*t))*(-0.0229481326417992*exp(0.65313746*I*conjugate(t)) + 0.275785905138392*exp(-3.65313746*I*conjugate(t)) - 0.0734693948780173*exp(-2.10332335*I*conjugate(t)) - 0.179368377618576*exp(-0.89667665*I*conjugate(t))), (-0.396481252648728*exp(0.89667665*I*t) + 0.162398958497151*exp(2.10332335*I*t) + 0.216100575110778*exp(3.65313746*I*t) + 0.0179817190407997*exp(-0.65313746*I*t))*(0.0179817190407997*exp(0.65313746*I*conjugate(t)) + 0.216100575110778*exp(-3.65313746*I*conjugate(t)) + 0.162398958497151*exp(-2.10332335*I*conjugate(t)) - 0.396481252648728*exp(-0.89667665*I*conjugate(t))), (-0.396481252648728*exp(0.89667665*I*t) + 0.162398958497151*exp(2.10332335*I*t) + 0.216100575110778*exp(3.65313746*I*t) + 0.0179817190407997*exp(-0.65313746*I*t))*(-0.00723252717527875*exp(0.65313746*I*conjugate(t)) + 0.0869190136124245*exp(-3.65313746*I*conjugate(t)) + 0.233111522143501*exp(-2.10332335*I*conjugate(t)) + 0.56911909510755*exp(-0.89667665*I*conjugate(t)))]\n",
      "[(0.56911909510755*exp(0.89667665*I*t) + 0.233111522143501*exp(2.10332335*I*t) + 0.0869190136124245*exp(3.65313746*I*t) - 0.00723252717527875*exp(-0.65313746*I*t))*(0.0159869954355517*exp(0.65313746*I*conjugate(t)) + 0.192128399964281*exp(-3.65313746*I*conjugate(t)) - 0.182661742538584*exp(-2.10332335*I*conjugate(t)) + 0.445950867929783*exp(-0.89667665*I*conjugate(t))), (0.56911909510755*exp(0.89667665*I*t) + 0.233111522143501*exp(2.10332335*I*t) + 0.0869190136124245*exp(3.65313746*I*t) - 0.00723252717527875*exp(-0.65313746*I*t))*(-0.0229481326417992*exp(0.65313746*I*conjugate(t)) + 0.275785905138392*exp(-3.65313746*I*conjugate(t)) - 0.0734693948780173*exp(-2.10332335*I*conjugate(t)) - 0.179368377618576*exp(-0.89667665*I*conjugate(t))), (0.56911909510755*exp(0.89667665*I*t) + 0.233111522143501*exp(2.10332335*I*t) + 0.0869190136124245*exp(3.65313746*I*t) - 0.00723252717527875*exp(-0.65313746*I*t))*(0.0179817190407997*exp(0.65313746*I*conjugate(t)) + 0.216100575110778*exp(-3.65313746*I*conjugate(t)) + 0.162398958497151*exp(-2.10332335*I*conjugate(t)) - 0.396481252648728*exp(-0.89667665*I*conjugate(t))), (0.56911909510755*exp(0.89667665*I*t) + 0.233111522143501*exp(2.10332335*I*t) + 0.0869190136124245*exp(3.65313746*I*t) - 0.00723252717527875*exp(-0.65313746*I*t))*(-0.00723252717527875*exp(0.65313746*I*conjugate(t)) + 0.0869190136124245*exp(-3.65313746*I*conjugate(t)) + 0.233111522143501*exp(-2.10332335*I*conjugate(t)) + 0.56911909510755*exp(-0.89667665*I*conjugate(t)))]\n"
     ]
    }
   ],
   "source": [
    "def generar_matriz_multiplicacion(lista1, lista2):\n",
    "    if len(lista1) < 4 or len(lista2) < 4:\n",
    "        raise ValueError(\"Ambas listas deben contener al menos 4 elementos.\")\n",
    "\n",
    "    matriz = [[0 for _ in range(4)] for _ in range(4)]\n",
    "\n",
    "    for i in range(4):\n",
    "        for j in range(4):\n",
    "            num1 = lista1[i]  # Tomamos el número de la primera lista según el índice i\n",
    "            num2 = lista2[j]  # Tomamos el número de la segunda lista según el índice j\n",
    "            resultado = num1 * num2  # Multiplicamos los dos números\n",
    "\n",
    "            matriz[i][j] = resultado\n",
    "\n",
    "    return matriz\n",
    "\n",
    "# Listas con al menos 4 elementos cada una\n",
    "lista_1 = [c1, c2, c3, c4]\n",
    "lista_2 = [c1c, c2c, c3c, c4c]\n",
    "\n",
    "# Generar la matriz de 4x4 con términos resultado de multiplicaciones entre elementos de las listas\n",
    "matriz_resultado = generar_matriz_multiplicacion(lista_1, lista_2)\n",
    "\n",
    "# Imprimir la matriz generada\n",
    "print(\"Matriz de densidad es: \")\n",
    "for fila in matriz_resultado:\n",
    "    print(fila)"
   ]
  }
 ],
 "metadata": {
  "kernelspec": {
   "display_name": "Python 3 (ipykernel)",
   "language": "python",
   "name": "python3"
  },
  "language_info": {
   "codemirror_mode": {
    "name": "ipython",
    "version": 3
   },
   "file_extension": ".py",
   "mimetype": "text/x-python",
   "name": "python",
   "nbconvert_exporter": "python",
   "pygments_lexer": "ipython3",
   "version": "3.11.4"
  }
 },
 "nbformat": 4,
 "nbformat_minor": 5
}
