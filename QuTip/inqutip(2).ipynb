{
 "cells": [
  {
   "cell_type": "markdown",
   "id": "63a047b2",
   "metadata": {},
   "source": [
    "# Calculos base en qutip"
   ]
  },
  {
   "cell_type": "markdown",
   "id": "8575b0f4",
   "metadata": {},
   "source": [
    "  "
   ]
  },
  {
   "cell_type": "markdown",
   "id": "83abb6e2",
   "metadata": {},
   "source": [
    "## Para esta librería se requiere instalar:"
   ]
  },
  {
   "cell_type": "code",
   "execution_count": 1,
   "id": "392a3827",
   "metadata": {},
   "outputs": [],
   "source": [
    "'Con esto es sificiente para llamar a todos los módulos de la libreria'\n",
    "from qutip import *\n",
    "\n",
    "import qutip as qt\n",
    "\n",
    "import numpy as np\n",
    "\n",
    "import matplotlib.pyplot as plt"
   ]
  },
  {
   "cell_type": "markdown",
   "id": "a6a9dbe5",
   "metadata": {},
   "source": [
    "## Creación de vectores"
   ]
  },
  {
   "cell_type": "code",
   "execution_count": 2,
   "id": "b5362a85",
   "metadata": {},
   "outputs": [
    {
     "name": "stdout",
     "output_type": "stream",
     "text": [
      "Quantum object: dims = [[5], [1]], shape = (5, 1), type = ket\n",
      "Qobj data =\n",
      "[[1.]\n",
      " [2.]\n",
      " [3.]\n",
      " [4.]\n",
      " [5.]]\n"
     ]
    }
   ],
   "source": [
    "'Forma de crear un ket'\n",
    "print(Qobj([[1],[2],[3],[4],[5]]))"
   ]
  },
  {
   "cell_type": "code",
   "execution_count": 3,
   "id": "c4ffee1d",
   "metadata": {},
   "outputs": [
    {
     "name": "stdout",
     "output_type": "stream",
     "text": [
      "Quantum object: dims = [[1], [5]], shape = (1, 5), type = bra\n",
      "Qobj data =\n",
      "[[1. 2. 3. 4. 5.]]\n"
     ]
    }
   ],
   "source": [
    "'Forma de crear un bra'\n",
    "x = np.array([[1, 2, 3, 4, 5]])\n",
    "print(Qobj(x))"
   ]
  },
  {
   "cell_type": "markdown",
   "id": "feda1f59",
   "metadata": {},
   "source": [
    "# Estados en la base de Fock\n",
    "\n",
    "[Fock state ket vector](https://qutip.org/docs/latest/guide/guide-basics.html)\n",
    "\n"
   ]
  },
  {
   "cell_type": "code",
   "execution_count": 4,
   "id": "9af9943e",
   "metadata": {},
   "outputs": [
    {
     "data": {
      "text/latex": [
       "Quantum object: dims = [[4], [1]], shape = (4, 1), type = ket $ \\\\ \\left(\\begin{matrix}1.0\\\\0.0\\\\0.0\\\\0.0\\\\\\end{matrix}\\right)$"
      ],
      "text/plain": [
       "Quantum object: dims = [[4], [1]], shape = (4, 1), type = ket\n",
       "Qobj data =\n",
       "[[1.]\n",
       " [0.]\n",
       " [0.]\n",
       " [0.]]"
      ]
     },
     "execution_count": 4,
     "metadata": {},
     "output_type": "execute_result"
    }
   ],
   "source": [
    "#Estado de vacío:\n",
    "p0=fock(4,0)\n",
    "#print(p0)\n",
    "p0"
   ]
  },
  {
   "cell_type": "markdown",
   "id": "25c30b2f",
   "metadata": {},
   "source": [
    "¿Cómo se crea un estado exitado?\n",
    "\n",
    "Pues, se debe aplicar el operador de creación $a^{\\dagger}$. Pero antes de ello, se crea el de destruccón, ya que el de creación corresponde al hermítico conjugado.\n"
   ]
  },
  {
   "cell_type": "code",
   "execution_count": 5,
   "id": "4822b750",
   "metadata": {},
   "outputs": [
    {
     "data": {
      "text/latex": [
       "Quantum object: dims = [[4], [4]], shape = (4, 4), type = oper, isherm = False $ \\\\ \\left(\\begin{matrix}0.0 & 1.0 & 0.0 & 0.0\\\\0.0 & 0.0 & 1.414 & 0.0\\\\0.0 & 0.0 & 0.0 & 1.732\\\\0.0 & 0.0 & 0.0 & 0.0\\\\\\end{matrix}\\right)$"
      ],
      "text/plain": [
       "Quantum object: dims = [[4], [4]], shape = (4, 4), type = oper, isherm = False\n",
       "Qobj data =\n",
       "[[0.         1.         0.         0.        ]\n",
       " [0.         0.         1.41421356 0.        ]\n",
       " [0.         0.         0.         1.73205081]\n",
       " [0.         0.         0.         0.        ]]"
      ]
     },
     "execution_count": 5,
     "metadata": {},
     "output_type": "execute_result"
    }
   ],
   "source": [
    "'Operador de destrucción, para 4 posibles estados'\n",
    "# Notemos que a excepción de la primera columna, este operador corresponde a una\n",
    "#matriz diagonal, donde cada elemento d ela diagonal es la raiz cuadrada de cada\n",
    "#número posible de partículas.\n",
    "\n",
    "a = destroy(4)\n",
    "a"
   ]
  },
  {
   "cell_type": "code",
   "execution_count": 6,
   "id": "203899df",
   "metadata": {},
   "outputs": [
    {
     "data": {
      "text/latex": [
       "Quantum object: dims = [[4], [1]], shape = (4, 1), type = ket $ \\\\ \\left(\\begin{matrix}0.0\\\\0.0\\\\0.0\\\\0.0\\\\\\end{matrix}\\right)$"
      ],
      "text/plain": [
       "Quantum object: dims = [[4], [1]], shape = (4, 1), type = ket\n",
       "Qobj data =\n",
       "[[0.]\n",
       " [0.]\n",
       " [0.]\n",
       " [0.]]"
      ]
     },
     "execution_count": 6,
     "metadata": {},
     "output_type": "execute_result"
    }
   ],
   "source": [
    "#Notemos que aplicar el operador destrucción al estado de vacío, retorna \n",
    "#el vector nulo.\n",
    "a*p0"
   ]
  },
  {
   "cell_type": "code",
   "execution_count": 7,
   "id": "39eaa2d4",
   "metadata": {},
   "outputs": [
    {
     "data": {
      "text/latex": [
       "Quantum object: dims = [[4], [4]], shape = (4, 4), type = oper, isherm = False $ \\\\ \\left(\\begin{matrix}0.0 & 0.0 & 0.0 & 0.0\\\\1.0 & 0.0 & 0.0 & 0.0\\\\0.0 & 1.414 & 0.0 & 0.0\\\\0.0 & 0.0 & 1.732 & 0.0\\\\\\end{matrix}\\right)$"
      ],
      "text/plain": [
       "Quantum object: dims = [[4], [4]], shape = (4, 4), type = oper, isherm = False\n",
       "Qobj data =\n",
       "[[0.         0.         0.         0.        ]\n",
       " [1.         0.         0.         0.        ]\n",
       " [0.         1.41421356 0.         0.        ]\n",
       " [0.         0.         1.73205081 0.        ]]"
      ]
     },
     "execution_count": 7,
     "metadata": {},
     "output_type": "execute_result"
    }
   ],
   "source": [
    "'Entonces, como se dijo, el operador creación corresponde al adjunto del aniquilación:'\n",
    "\n",
    "aplus=a.dag()\n",
    "aplus"
   ]
  },
  {
   "cell_type": "code",
   "execution_count": 8,
   "id": "49dd74f5",
   "metadata": {},
   "outputs": [
    {
     "data": {
      "text/latex": [
       "Quantum object: dims = [[4], [4]], shape = (4, 4), type = oper, isherm = False $ \\\\ \\left(\\begin{matrix}0.0 & 0.0 & 0.0 & 0.0\\\\1.0 & 0.0 & 0.0 & 0.0\\\\0.0 & 1.414 & 0.0 & 0.0\\\\0.0 & 0.0 & 1.732 & 0.0\\\\\\end{matrix}\\right)$"
      ],
      "text/plain": [
       "Quantum object: dims = [[4], [4]], shape = (4, 4), type = oper, isherm = False\n",
       "Qobj data =\n",
       "[[0.         0.         0.         0.        ]\n",
       " [1.         0.         0.         0.        ]\n",
       " [0.         1.41421356 0.         0.        ]\n",
       " [0.         0.         1.73205081 0.        ]]"
      ]
     },
     "execution_count": 8,
     "metadata": {},
     "output_type": "execute_result"
    }
   ],
   "source": [
    "'Operador creación'\n",
    "#También se pudo haber hecho:\n",
    "c=create(4)\n",
    "c"
   ]
  },
  {
   "cell_type": "code",
   "execution_count": 9,
   "id": "20f9e087",
   "metadata": {},
   "outputs": [
    {
     "data": {
      "text/latex": [
       "Quantum object: dims = [[4], [1]], shape = (4, 1), type = ket $ \\\\ \\left(\\begin{matrix}0.0\\\\1.0\\\\0.0\\\\0.0\\\\\\end{matrix}\\right)$"
      ],
      "text/plain": [
       "Quantum object: dims = [[4], [1]], shape = (4, 1), type = ket\n",
       "Qobj data =\n",
       "[[0.]\n",
       " [1.]\n",
       " [0.]\n",
       " [0.]]"
      ]
     },
     "execution_count": 9,
     "metadata": {},
     "output_type": "execute_result"
    }
   ],
   "source": [
    "#Primer estado exitado |1>\n",
    "p1=aplus*p0\n",
    "p1\n",
    "\n",
    "p11=c*p0\n",
    "p11\n",
    "\n",
    "#Eliga cual eliga, corresponde a lo mismo."
   ]
  },
  {
   "cell_type": "code",
   "execution_count": 10,
   "id": "89f93558",
   "metadata": {},
   "outputs": [
    {
     "data": {
      "text/latex": [
       "Quantum object: dims = [[4], [1]], shape = (4, 1), type = ket $ \\\\ \\left(\\begin{matrix}0.0\\\\0.0\\\\1.414\\\\0.0\\\\\\end{matrix}\\right)$"
      ],
      "text/plain": [
       "Quantum object: dims = [[4], [1]], shape = (4, 1), type = ket\n",
       "Qobj data =\n",
       "[[0.        ]\n",
       " [0.        ]\n",
       " [1.41421356]\n",
       " [0.        ]]"
      ]
     },
     "execution_count": 10,
     "metadata": {},
     "output_type": "execute_result"
    }
   ],
   "source": [
    "#Con esta operación estoy haciendo: $a+|1>=(2)**1/2 |2>$\n",
    "(c**2*p0)"
   ]
  },
  {
   "cell_type": "markdown",
   "id": "cfa56f44",
   "metadata": {},
   "source": [
    "\n",
    "\n"
   ]
  },
  {
   "cell_type": "markdown",
   "id": "6361a6f5",
   "metadata": {},
   "source": [
    "## Estados de Fock posibles para mi caso\n",
    "\n",
    "\n"
   ]
  },
  {
   "cell_type": "markdown",
   "id": "e9700798",
   "metadata": {},
   "source": [
    "\n",
    "\n"
   ]
  },
  {
   "cell_type": "code",
   "execution_count": 11,
   "id": "7cd73b84",
   "metadata": {},
   "outputs": [
    {
     "data": {
      "text/latex": [
       "Quantum object: dims = [[4], [1]], shape = (4, 1), type = ket $ \\\\ \\left(\\begin{matrix}0.0\\\\0.0\\\\0.0\\\\1.0\\\\\\end{matrix}\\right)$"
      ],
      "text/plain": [
       "Quantum object: dims = [[4], [1]], shape = (4, 1), type = ket\n",
       "Qobj data =\n",
       "[[0.]\n",
       " [0.]\n",
       " [0.]\n",
       " [1.]]"
      ]
     },
     "execution_count": 11,
     "metadata": {},
     "output_type": "execute_result"
    }
   ],
   "source": [
    "#Estado de vacío |0>:\n",
    "p0=fock(4,0)\n",
    "p0\n",
    "\n",
    "#primer estado excitado |1>:\n",
    "p1=fock(4,1)\n",
    "p1\n",
    "\n",
    "#segundo estado excitado |2>:\n",
    "p2=fock(4,2)\n",
    "p2\n",
    "\n",
    "#tercero estado excitado |3>:\n",
    "p3=fock(4,3)\n",
    "p3\n",
    "\n",
    "#Notemos que los vectores escritos de esta manera están normalizados para\n",
    "#el valor de 1"
   ]
  },
  {
   "cell_type": "code",
   "execution_count": 12,
   "id": "1c4b7002",
   "metadata": {},
   "outputs": [
    {
     "data": {
      "text/latex": [
       "Quantum object: dims = [[4], [1]], shape = (4, 1), type = ket $ \\\\ \\left(\\begin{matrix}0.0\\\\0.0\\\\0.0\\\\3.0\\\\\\end{matrix}\\right)$"
      ],
      "text/plain": [
       "Quantum object: dims = [[4], [1]], shape = (4, 1), type = ket\n",
       "Qobj data =\n",
       "[[0.]\n",
       " [0.]\n",
       " [0.]\n",
       " [3.]]"
      ]
     },
     "execution_count": 12,
     "metadata": {},
     "output_type": "execute_result"
    }
   ],
   "source": [
    "'operador número: creación*destrucción=n'\n",
    "n=num(4)\n",
    "n\n",
    "\n",
    "n*p3\n",
    "\n",
    "#Lo que corresponde a 3|3>"
   ]
  },
  {
   "cell_type": "markdown",
   "id": "9eb20285",
   "metadata": {},
   "source": [
    "## Base de Dicke"
   ]
  },
  {
   "cell_type": "markdown",
   "id": "571324bf",
   "metadata": {},
   "source": [
    "Los vectores de esta base, tienen la forma:\n",
    "|-J>, |-J+1>, |-J+2>, |-J+3>.\n",
    "Donde recordemos que realmente se tiene es:\n",
    "|M>, y como M puede tomar valores: +-J,+-J-+1...\n",
    "\n",
    "\n",
    "Y deben ser opuestos a la forma de los de Fock, ya que, de forma compuesta, la base corresponde a:\n",
    "|-J,3>, |-J+1,2>, |-J+2,1>, |-J+3,0>."
   ]
  },
  {
   "cell_type": "code",
   "execution_count": 13,
   "id": "e0aefbb0",
   "metadata": {},
   "outputs": [
    {
     "data": {
      "text/latex": [
       "Quantum object: dims = [[4], [1]], shape = (4, 1), type = ket $ \\\\ \\left(\\begin{matrix}0.0\\\\0.0\\\\0.0\\\\1.0\\\\\\end{matrix}\\right)$"
      ],
      "text/plain": [
       "Quantum object: dims = [[4], [1]], shape = (4, 1), type = ket\n",
       "Qobj data =\n",
       "[[0.]\n",
       " [0.]\n",
       " [0.]\n",
       " [1.]]"
      ]
     },
     "execution_count": 13,
     "metadata": {},
     "output_type": "execute_result"
    }
   ],
   "source": [
    "#Estados de Dicke\n",
    "\n",
    "#Estado base |-J> \n",
    "d0=basis(4,0)\n",
    "d0\n",
    "\n",
    "#Estado base |-J+1> \n",
    "d1=basis(4,1)\n",
    "d1\n",
    "\n",
    "#Estado base |-J+2> \n",
    "d2=basis(4,2)\n",
    "d2\n",
    "\n",
    "#Estado base |-J+3> \n",
    "d3=basis(4,3)\n",
    "d3"
   ]
  },
  {
   "cell_type": "markdown",
   "id": "4b119c42",
   "metadata": {},
   "source": [
    "\n"
   ]
  },
  {
   "cell_type": "code",
   "execution_count": 14,
   "id": "8381e6e9",
   "metadata": {},
   "outputs": [
    {
     "data": {
      "text/latex": [
       "Quantum object: dims = [[4, 4], [1, 1]], shape = (16, 1), type = ket $ \\\\ \\left(\\begin{matrix}0.0\\\\0.0\\\\0.0\\\\0.0\\\\0.0\\\\\\vdots\\\\0.0\\\\1.0\\\\0.0\\\\0.0\\\\0.0\\\\\\end{matrix}\\right)$"
      ],
      "text/plain": [
       "Quantum object: dims = [[4, 4], [1, 1]], shape = (16, 1), type = ket\n",
       "Qobj data =\n",
       "[[0.]\n",
       " [0.]\n",
       " [0.]\n",
       " [0.]\n",
       " [0.]\n",
       " [0.]\n",
       " [0.]\n",
       " [0.]\n",
       " [0.]\n",
       " [0.]\n",
       " [0.]\n",
       " [0.]\n",
       " [1.]\n",
       " [0.]\n",
       " [0.]\n",
       " [0.]]"
      ]
     },
     "execution_count": 14,
     "metadata": {},
     "output_type": "execute_result"
    }
   ],
   "source": [
    "#producto tensorial entre estos elementos:\n",
    "\n",
    "#|-J,3>\n",
    "d0p3=tensor([d0, p3])\n",
    "d0p3\n",
    "\n",
    "# |-J+1,2>\n",
    "d1p2=tensor([d1, p2])\n",
    "d1p2\n",
    "\n",
    "# |-J+2,1>\n",
    "d2p1=tensor([d2, p1])\n",
    "d2p1\n",
    "\n",
    "# |-J+3,0>\n",
    "d3p0=tensor([d3, p0])\n",
    "d3p0"
   ]
  },
  {
   "cell_type": "markdown",
   "id": "fbe95dff",
   "metadata": {},
   "source": [
    "## A solucionar: ¿qué hago con el - J que tengo faltante en la base de Dicke?\n",
    "\n",
    "Pero lo cierto es que ese valor de -J es importante para cuando se aplique los operadores J's."
   ]
  },
  {
   "cell_type": "markdown",
   "id": "04e48272",
   "metadata": {},
   "source": [
    "Bueno, resulta que esa no era la manera de formar la base de Dicke. La manera es la siguiente:"
   ]
  },
  {
   "cell_type": "code",
   "execution_count": 15,
   "id": "b139efdd",
   "metadata": {},
   "outputs": [
    {
     "data": {
      "text/latex": [
       "Quantum object: dims = [[4], [1]], shape = (4, 1), type = ket $ \\\\ \\left(\\begin{matrix}1.0\\\\0.0\\\\0.0\\\\0.0\\\\\\end{matrix}\\right)$"
      ],
      "text/plain": [
       "Quantum object: dims = [[4], [1]], shape = (4, 1), type = ket\n",
       "Qobj data =\n",
       "[[1.]\n",
       " [0.]\n",
       " [0.]\n",
       " [0.]]"
      ]
     },
     "execution_count": 15,
     "metadata": {},
     "output_type": "execute_result"
    }
   ],
   "source": [
    "#Valor de número total de espin\n",
    "j = 3/2\n",
    "#Base de Dicke para los emisores. Como m puede tomar valores entre -j hasta j.\n",
    "#se tienen jj+1 posibles combinaciones.\n",
    "jj=int(2*j)\n",
    "\n",
    "di = qt.basis(jj + 1,jj-1)\n",
    "di\n",
    "\n",
    "#Creo que ya entendí esto:\n",
    "#El producto vectorial entre los vectores de las bases de fock y de dicke, se da entre opuestos\n",
    "#es decir, mientras que los cuantos surgen, son menores las exitaciones por parte\n",
    "#de los emisores.\n",
    "#Y que sea -J con el mayor número de fotones (no es un valor, sino un íncide. (M=-j))\n",
    "#denotando que es el menor número de exitaciones de los emisores.\n",
    "\n",
    "\n",
    "#Como este es el último término, corresponde al estado con menor exitación posible, M=-J\n",
    "di3=qt.basis(jj + 1,jj)\n",
    "di3\n",
    "\n",
    "di2=qt.basis(jj + 1,jj-1)\n",
    "di2\n",
    "\n",
    "di1=qt.basis(jj + 1,jj-2)\n",
    "di1\n",
    "\n",
    "#Este es el estado con mayor exitación posible, M=-J+3\n",
    "di0=qt.basis(jj + 1,jj-3)\n",
    "di0\n",
    "\n",
    "di0"
   ]
  },
  {
   "cell_type": "markdown",
   "id": "66732c4b",
   "metadata": {},
   "source": [
    "## Producto tensorial para nuestro problema"
   ]
  },
  {
   "cell_type": "code",
   "execution_count": 16,
   "id": "d5ae1650",
   "metadata": {},
   "outputs": [
    {
     "data": {
      "text/latex": [
       "Quantum object: dims = [[4, 4], [1, 1]], shape = (16, 1), type = ket $ \\\\ \\left(\\begin{matrix}1.0\\\\0.0\\\\0.0\\\\0.0\\\\0.0\\\\\\vdots\\\\0.0\\\\0.0\\\\0.0\\\\0.0\\\\0.0\\\\\\end{matrix}\\right)$"
      ],
      "text/plain": [
       "Quantum object: dims = [[4, 4], [1, 1]], shape = (16, 1), type = ket\n",
       "Qobj data =\n",
       "[[1.]\n",
       " [0.]\n",
       " [0.]\n",
       " [0.]\n",
       " [0.]\n",
       " [0.]\n",
       " [0.]\n",
       " [0.]\n",
       " [0.]\n",
       " [0.]\n",
       " [0.]\n",
       " [0.]\n",
       " [0.]\n",
       " [0.]\n",
       " [0.]\n",
       " [0.]]"
      ]
     },
     "execution_count": 16,
     "metadata": {},
     "output_type": "execute_result"
    }
   ],
   "source": [
    "#producto tensorial entre estos elementos:\n",
    "\n",
    "#|-J,3>\n",
    "di3p3=tensor([di3, p3])\n",
    "di3p3\n",
    "\n",
    "# |-J+1,2>\n",
    "di2p2=tensor([di2, p2])\n",
    "di2p2\n",
    "\n",
    "# |-J+2,1>\n",
    "di1p1=tensor([di1, p1])\n",
    "di1p1\n",
    "\n",
    "# |-J+3,0>\n",
    "di0p0=tensor([di0, p0])\n",
    "di0p0\n"
   ]
  },
  {
   "cell_type": "markdown",
   "id": "3f29dca3",
   "metadata": {},
   "source": [
    "\n",
    "\n",
    "\n"
   ]
  },
  {
   "cell_type": "markdown",
   "id": "9d711a4b",
   "metadata": {},
   "source": [
    "## Operador que va  acorresponder a la base de Dicke"
   ]
  },
  {
   "cell_type": "code",
   "execution_count": 17,
   "id": "c571d6ad",
   "metadata": {},
   "outputs": [
    {
     "data": {
      "text/latex": [
       "Quantum object: dims = [[4], [1]], shape = (4, 1), type = ket $ \\\\ \\left(\\begin{matrix}0.0\\\\0.0\\\\1.732\\\\0.0\\\\\\end{matrix}\\right)$"
      ],
      "text/plain": [
       "Quantum object: dims = [[4], [1]], shape = (4, 1), type = ket\n",
       "Qobj data =\n",
       "[[0.        ]\n",
       " [0.        ]\n",
       " [1.73205081]\n",
       " [0.        ]]"
      ]
     },
     "execution_count": 17,
     "metadata": {},
     "output_type": "execute_result"
    }
   ],
   "source": [
    "jmat(j,'+')*di3"
   ]
  },
  {
   "cell_type": "markdown",
   "id": "3713c2cf",
   "metadata": {},
   "source": [
    "![](fotoo.jpeg)"
   ]
  },
  {
   "cell_type": "markdown",
   "id": "37784bb5",
   "metadata": {},
   "source": [
    "Esta documentaci´+on se encuentra en el siguiente enlace:\n",
    "\n",
    "https://qutip.org/docs/latest/apidoc/functions.html#qutip.operators.jmat"
   ]
  },
  {
   "cell_type": "markdown",
   "id": "7e19c099",
   "metadata": {},
   "source": [
    "## Hallando la forma del hamiltoniano con estos vectores base"
   ]
  },
  {
   "cell_type": "code",
   "execution_count": 18,
   "id": "9894e6d8",
   "metadata": {},
   "outputs": [],
   "source": [
    "N=4\n",
    "j=3/2\n",
    "m=-j\n",
    "wc=1\n",
    "wa=1\n",
    "g=0.5\n",
    "\n",
    "a=destroy(N)\n",
    "a.dag()\n",
    "\n",
    "jz=jmat(j,'z')\n",
    "\n",
    "jmin=jmat(j,'-')\n",
    "\n",
    "jmax=jmat(j,'+')"
   ]
  },
  {
   "cell_type": "code",
   "execution_count": 19,
   "id": "3d2f31fc",
   "metadata": {},
   "outputs": [
    {
     "data": {
      "text/latex": [
       "Quantum object: dims = [[4], [4]], shape = (4, 4), type = oper, isherm = False $ \\\\ \\left(\\begin{matrix}1.500 & 0.0 & 1.0 & 0.0\\\\0.0 & 1.500 & 0.0 & 1.225\\\\1.225 & 0.0 & 1.500 & 0.0\\\\0.0 & 1.732 & 0.0 & 1.500\\\\\\end{matrix}\\right)$"
      ],
      "text/plain": [
       "Quantum object: dims = [[4], [4]], shape = (4, 4), type = oper, isherm = False\n",
       "Qobj data =\n",
       "[[1.5        0.         1.         0.        ]\n",
       " [0.         1.5        0.         1.22474487]\n",
       " [1.22474487 0.         1.5        0.        ]\n",
       " [0.         1.73205081 0.         1.5       ]]"
      ]
     },
     "execution_count": 19,
     "metadata": {},
     "output_type": "execute_result"
    }
   ],
   "source": [
    "#Supuestamente, este es el hamiltoniano mio \n",
    "htc=wc*a.dag()*a + wa*jz + g*(a.dag()*jmin + a*jmax)\n",
    "\n",
    "htc"
   ]
  },
  {
   "cell_type": "code",
   "execution_count": 20,
   "id": "1526c8ad",
   "metadata": {},
   "outputs": [
    {
     "data": {
      "text/latex": [
       "Quantum object: dims = [[4], [4]], shape = (4, 4), type = oper, isherm = True $ \\\\ \\left(\\begin{matrix}0.0 & 0.0 & 0.0 & 0.0\\\\0.0 & 1.0 & 0.0 & 0.0\\\\0.0 & 0.0 & 2.0 & 0.0\\\\0.0 & 0.0 & 0.0 & 3.000\\\\\\end{matrix}\\right)$"
      ],
      "text/plain": [
       "Quantum object: dims = [[4], [4]], shape = (4, 4), type = oper, isherm = True\n",
       "Qobj data =\n",
       "[[0. 0. 0. 0.]\n",
       " [0. 1. 0. 0.]\n",
       " [0. 0. 2. 0.]\n",
       " [0. 0. 0. 3.]]"
      ]
     },
     "execution_count": 20,
     "metadata": {},
     "output_type": "execute_result"
    }
   ],
   "source": [
    "wc*a.dag()*a"
   ]
  },
  {
   "cell_type": "markdown",
   "id": "efcde408",
   "metadata": {},
   "source": [
    "El 'suúestamente' surge por la dimensionalidad de los operadores y de los vectores. no son compatibles"
   ]
  },
  {
   "cell_type": "code",
   "execution_count": 21,
   "id": "2351f7a1",
   "metadata": {},
   "outputs": [
    {
     "ename": "TypeError",
     "evalue": "Incompatible Qobj shapes",
     "output_type": "error",
     "traceback": [
      "\u001b[1;31m---------------------------------------------------------------------------\u001b[0m",
      "\u001b[1;31mTypeError\u001b[0m                                 Traceback (most recent call last)",
      "Cell \u001b[1;32mIn[21], line 1\u001b[0m\n\u001b[1;32m----> 1\u001b[0m htc\u001b[38;5;241m*\u001b[39mdi2p2\n",
      "File \u001b[1;32m~\\anaconda3\\Lib\\site-packages\\qutip\\qobj.py:553\u001b[0m, in \u001b[0;36mQobj.__mul__\u001b[1;34m(self, other)\u001b[0m\n\u001b[0;32m    550\u001b[0m         \u001b[38;5;28;01mreturn\u001b[39;00m out\u001b[38;5;241m.\u001b[39mtidyup() \u001b[38;5;28;01mif\u001b[39;00m settings\u001b[38;5;241m.\u001b[39mauto_tidyup \u001b[38;5;28;01melse\u001b[39;00m out\n\u001b[0;32m    552\u001b[0m     \u001b[38;5;28;01melse\u001b[39;00m:\n\u001b[1;32m--> 553\u001b[0m         \u001b[38;5;28;01mraise\u001b[39;00m \u001b[38;5;167;01mTypeError\u001b[39;00m(\u001b[38;5;124m\"\u001b[39m\u001b[38;5;124mIncompatible Qobj shapes\u001b[39m\u001b[38;5;124m\"\u001b[39m)\n\u001b[0;32m    555\u001b[0m \u001b[38;5;28;01melif\u001b[39;00m \u001b[38;5;28misinstance\u001b[39m(other, np\u001b[38;5;241m.\u001b[39mndarray):\n\u001b[0;32m    556\u001b[0m     \u001b[38;5;28;01mif\u001b[39;00m other\u001b[38;5;241m.\u001b[39mdtype \u001b[38;5;241m==\u001b[39m \u001b[38;5;124m'\u001b[39m\u001b[38;5;124mobject\u001b[39m\u001b[38;5;124m'\u001b[39m:\n",
      "\u001b[1;31mTypeError\u001b[0m: Incompatible Qobj shapes"
     ]
    }
   ],
   "source": [
    "htc*di2p2"
   ]
  },
  {
   "cell_type": "markdown",
   "id": "52f52000",
   "metadata": {},
   "source": [
    "Como dice que los shapes no son compatibles, supongo que la matriz del hamiltoniano debería quedar 16x16"
   ]
  },
  {
   "cell_type": "code",
   "execution_count": null,
   "id": "37dc2aec",
   "metadata": {},
   "outputs": [],
   "source": [
    "a = tensor(identity(4), destroy(N))\n",
    "a.dag()*a"
   ]
  },
  {
   "cell_type": "code",
   "execution_count": null,
   "id": "92b610fb",
   "metadata": {},
   "outputs": [],
   "source": [
    "#El .full sirve para ver todo completo\n",
    "a.dag()*a*di2p2.full()"
   ]
  },
  {
   "cell_type": "code",
   "execution_count": null,
   "id": "9b156a1e",
   "metadata": {},
   "outputs": [],
   "source": [
    "tensor(identity(4), jmat(j,'+'))"
   ]
  },
  {
   "cell_type": "markdown",
   "id": "4280cfe2",
   "metadata": {},
   "source": [
    "## Hagamos una prueba haber si estas son las dimensiones correctas:"
   ]
  },
  {
   "cell_type": "code",
   "execution_count": 68,
   "id": "0fbf32a8",
   "metadata": {},
   "outputs": [],
   "source": [
    "N=4\n",
    "j=3/2\n",
    "m=-j\n",
    "wc=1\n",
    "wa=1\n",
    "g=0.5\n",
    "\n",
    "a = destroy(N)\n",
    "\n",
    "a.dag()\n",
    "\n",
    "jz=jmat(j,'z')\n",
    "\n",
    "jmin=jmat(j,'-')\n",
    "\n",
    "jmax=jmat(j,'+')"
   ]
  },
  {
   "cell_type": "code",
   "execution_count": 69,
   "id": "9f511e7d",
   "metadata": {},
   "outputs": [
    {
     "data": {
      "text/latex": [
       "Quantum object: dims = [[4, 4], [4, 4]], shape = (16, 16), type = oper, isherm = False $ \\\\ \\left(\\begin{matrix}1.500 & 0.0 & 0.0 & 0.0 & 0.0 & \\cdots & 0.0 & 0.0 & 0.0 & 0.0 & 0.0\\\\0.0 & 1.500 & 0.0 & 0.0 & 0.0 & \\cdots & 0.0 & 0.0 & 0.0 & 0.0 & 0.0\\\\0.0 & 0.0 & 1.500 & 0.0 & 0.0 & \\cdots & 0.0 & 0.0 & 0.0 & 0.0 & 0.0\\\\0.0 & 0.0 & 0.0 & 1.500 & 0.0 & \\cdots & 0.0 & 0.0 & 0.0 & 0.0 & 0.0\\\\0.0 & 1.0 & 0.0 & 0.0 & 0.500 & \\cdots & 0.0 & 0.0 & 0.0 & 0.0 & 0.0\\\\\\vdots & \\vdots & \\vdots & \\vdots & \\vdots & \\ddots & \\vdots & \\vdots & \\vdots & \\vdots & \\vdots\\\\0.0 & 0.0 & 0.0 & 0.0 & 0.0 & \\cdots & -0.500 & 0.0 & 0.0 & 0.0 & 0.0\\\\0.0 & 0.0 & 0.0 & 0.0 & 0.0 & \\cdots & 0.0 & -1.500 & 0.0 & 0.0 & 0.0\\\\0.0 & 0.0 & 0.0 & 0.0 & 0.0 & \\cdots & 0.0 & 0.0 & -1.500 & 0.0 & 0.0\\\\0.0 & 0.0 & 0.0 & 0.0 & 0.0 & \\cdots & 3.000 & 0.0 & 0.0 & -1.500 & 0.0\\\\0.0 & 0.0 & 0.0 & 0.0 & 0.0 & \\cdots & 0.0 & 0.0 & 0.0 & 0.0 & -1.500\\\\\\end{matrix}\\right)$"
      ],
      "text/plain": [
       "Quantum object: dims = [[4, 4], [4, 4]], shape = (16, 16), type = oper, isherm = False\n",
       "Qobj data =\n",
       "[[ 1.5         0.          0.          0.          0.          0.8660254\n",
       "   0.          0.          0.          0.          0.          0.\n",
       "   0.          0.          0.          0.        ]\n",
       " [ 0.          1.5         0.          0.          0.          0.\n",
       "   1.          0.          0.          0.          0.          0.\n",
       "   0.          0.          0.          0.        ]\n",
       " [ 0.          0.          1.5         0.          0.          0.\n",
       "   0.          0.8660254   0.          0.          0.          0.\n",
       "   0.          0.          0.          0.        ]\n",
       " [ 0.          0.          0.          1.5         0.          0.\n",
       "   0.          0.          0.          0.          0.          0.\n",
       "   0.          0.          0.          0.        ]\n",
       " [ 0.          1.          0.          0.          0.5         0.\n",
       "   0.          0.          0.          1.22474487  0.          0.\n",
       "   0.          0.          0.          0.        ]\n",
       " [ 0.8660254   0.          1.41421356  0.          0.          0.5\n",
       "   0.          0.          0.          0.          1.41421356  0.\n",
       "   0.          0.          0.          0.        ]\n",
       " [ 0.          1.          0.          1.73205081  0.          0.\n",
       "   0.5         0.          0.          0.          0.          1.22474487\n",
       "   0.          0.          0.          0.        ]\n",
       " [ 0.          0.          0.8660254   0.          0.          0.\n",
       "   0.          0.5         0.          0.          0.          0.\n",
       "   0.          0.          0.          0.        ]\n",
       " [ 0.          0.          0.          0.          0.          1.41421356\n",
       "   0.          0.         -0.5         0.          0.          0.\n",
       "   0.          1.5         0.          0.        ]\n",
       " [ 0.          0.          0.          0.          1.22474487  0.\n",
       "   2.          0.          0.         -0.5         0.          0.\n",
       "   0.          0.          1.73205081  0.        ]\n",
       " [ 0.          0.          0.          0.          0.          1.41421356\n",
       "   0.          2.44948974  0.          0.         -0.5         0.\n",
       "   0.          0.          0.          1.5       ]\n",
       " [ 0.          0.          0.          0.          0.          0.\n",
       "   1.22474487  0.          0.          0.          0.         -0.5\n",
       "   0.          0.          0.          0.        ]\n",
       " [ 0.          0.          0.          0.          0.          0.\n",
       "   0.          0.          0.          1.73205081  0.          0.\n",
       "  -1.5         0.          0.          0.        ]\n",
       " [ 0.          0.          0.          0.          0.          0.\n",
       "   0.          0.          1.5         0.          2.44948974  0.\n",
       "   0.         -1.5         0.          0.        ]\n",
       " [ 0.          0.          0.          0.          0.          0.\n",
       "   0.          0.          0.          1.73205081  0.          3.\n",
       "   0.          0.         -1.5         0.        ]\n",
       " [ 0.          0.          0.          0.          0.          0.\n",
       "   0.          0.          0.          0.          1.5         0.\n",
       "   0.          0.          0.         -1.5       ]]"
      ]
     },
     "execution_count": 69,
     "metadata": {},
     "output_type": "execute_result"
    }
   ],
   "source": [
    "#Esta es la forma en como se arreglaba el hamiltoniano, lo que había que hacer era un rpoducto tensorial entre los operadores.\n",
    "#Y arreglar la dimensionalidad del segundo término\n",
    "htc=wc*tensor(a.dag(),a) + wa*tensor(jz,identity(4)) + g*(tensor(a.dag(),jmin) + tensor(a,jmax))\n",
    "htc"
   ]
  },
  {
   "cell_type": "code",
   "execution_count": 61,
   "id": "d96b95fc",
   "metadata": {},
   "outputs": [
    {
     "data": {
      "text/plain": [
       "(1.5+0j)"
      ]
     },
     "execution_count": 61,
     "metadata": {},
     "output_type": "execute_result"
    }
   ],
   "source": [
    "#Así es como encuentro los componentes del hamiltoniano en su forma matricial.\n",
    "htc.matrix_element(di0p0.dag(),di0p0)"
   ]
  },
  {
   "cell_type": "markdown",
   "id": "24151a88",
   "metadata": {},
   "source": [
    "## Por ahora estoy teniendo valores cercanos a los que debería. \n",
    "## Muy parecidos respecto a las posiciones, pero no son los valores:"
   ]
  },
  {
   "cell_type": "code",
   "execution_count": 62,
   "id": "c16b2e5a",
   "metadata": {},
   "outputs": [],
   "source": [
    "#Elementos del hamiltoniano\n",
    "\n",
    "a1=htc.matrix_element(di3p3.dag(),di3p3)\n",
    "a2=htc.matrix_element(di3p3.dag(),di2p2)\n",
    "a3=htc.matrix_element(di3p3.dag(),di1p1)\n",
    "a4=htc.matrix_element(di3p3.dag(),di0p0)\n",
    "\n",
    "b1=htc.matrix_element(di2p2.dag(),di3p3)\n",
    "b2=htc.matrix_element(di2p2.dag(),di2p2)\n",
    "b3=htc.matrix_element(di2p2.dag(),di1p1)\n",
    "b4=htc.matrix_element(di2p2.dag(),di0p0)\n",
    "\n",
    "c1=htc.matrix_element(di1p1.dag(),di3p3)\n",
    "c2=htc.matrix_element(di1p1.dag(),di2p2)\n",
    "c3=htc.matrix_element(di1p1.dag(),di1p1)\n",
    "c4=htc.matrix_element(di1p1.dag(),di0p0)\n",
    "\n",
    "d1=htc.matrix_element(di0p0.dag(),di3p3)\n",
    "d2=htc.matrix_element(di0p0.dag(),di2p2)\n",
    "d3=htc.matrix_element(di0p0.dag(),di1p1)\n",
    "d4=htc.matrix_element(di0p0.dag(),di0p0)"
   ]
  },
  {
   "cell_type": "code",
   "execution_count": 64,
   "id": "3b754748",
   "metadata": {},
   "outputs": [
    {
     "data": {
      "text/plain": [
       "array([[-1.5       +0.j,  1.5       +0.j,  0.        +0.j,\n",
       "         0.        +0.j],\n",
       "       [ 1.5       +0.j, -0.5       +0.j,  1.41421356+0.j,\n",
       "         0.        +0.j],\n",
       "       [ 0.        +0.j,  1.41421356+0.j,  0.5       +0.j,\n",
       "         0.8660254 +0.j],\n",
       "       [ 0.        +0.j,  0.        +0.j,  0.8660254 +0.j,\n",
       "         1.5       +0.j]])"
      ]
     },
     "execution_count": 64,
     "metadata": {},
     "output_type": "execute_result"
    }
   ],
   "source": [
    "h=np.array([[a1,a2,a3,a4],[b1,b2,b3,b4],[c1,c2,c3,c4],[d1,d2,d3,d4]])\n",
    "h"
   ]
  }
 ],
 "metadata": {
  "kernelspec": {
   "display_name": "Python 3 (ipykernel)",
   "language": "python",
   "name": "python3"
  },
  "language_info": {
   "codemirror_mode": {
    "name": "ipython",
    "version": 3
   },
   "file_extension": ".py",
   "mimetype": "text/x-python",
   "name": "python",
   "nbconvert_exporter": "python",
   "pygments_lexer": "ipython3",
   "version": "3.11.4"
  }
 },
 "nbformat": 4,
 "nbformat_minor": 5
}
